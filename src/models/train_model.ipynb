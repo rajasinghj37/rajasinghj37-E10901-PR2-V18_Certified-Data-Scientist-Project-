{
 "cells": [
  {
   "cell_type": "markdown",
   "id": "76cfd4f8",
   "metadata": {},
   "source": [
    "### Train Model :\n",
    "* **Importing necessary libraries**\n",
    "* **Loading Training data and Testing data**\n",
    "* **Independent and Dependent variable creation**\n",
    "* **Feature Transformation using ColumnTransformer**\n",
    "* **Creating multiple models with default parameters with smote and without smote to see which model is performing well with the dataset**\n",
    "* **Model Creation**\n",
    "    * ***Hypertuning Logistic Regression parameters using GridsearchCV***\n",
    "    * ***Hypertuning Support Vector Classifier parameters using GridsearchCV***\n",
    "    * ***Hypertuning Decision Tree Classifier parameters using RandomizedSearchCV***\n",
    "    * ***Hypertuning Random Forest Classifier parameters using RandomizedSearchCV***\n",
    "    * ***Hypertuning AdaBoost Classifier parameters using RandomizedSearchCV***\n",
    "    * ***Hypertuning Gradient Boosting Classifier parameters using RandomizedSearchCV***\n",
    "    * ***Model creation using Stacking Classifier (LogisticRegression + SVC + RandomForestClassifier)***\n",
    "* **Exporting Trained Models**"
   ]
  },
  {
   "cell_type": "markdown",
   "id": "e701748f",
   "metadata": {},
   "source": [
    "#### Importing necessary libraries"
   ]
  },
  {
   "cell_type": "code",
   "execution_count": 98,
   "id": "e052ce63",
   "metadata": {
    "ExecuteTime": {
     "end_time": "2023-01-17T05:56:42.110365Z",
     "start_time": "2023-01-17T05:56:42.092378Z"
    }
   },
   "outputs": [],
   "source": [
    "#Importing necessary libraries\n",
    "import pandas as pd\n",
    "pd.set_option('display.max_columns',100)\n",
    "pd.set_option('display.max_rows',100)\n",
    "import numpy as np\n",
    "\n",
    "# Plotting pie chart distribution\n",
    "import matplotlib.pyplot as plt\n",
    "\n",
    "# Pipeline\n",
    "#from sklearn.pipeline import Pipeline\n",
    "from imblearn.pipeline import Pipeline # used imblearn pipeline to invoke sampling technique\n",
    "\n",
    "# Feature Transformation\n",
    "from sklearn.compose import ColumnTransformer\n",
    "from sklearn.preprocessing import FunctionTransformer,OneHotEncoder,StandardScaler\n",
    "\n",
    "# Oversampling\n",
    "from imblearn.over_sampling import SMOTE\n",
    "\n",
    "# Feature Extration / Dimensionality reduction\n",
    "from sklearn.decomposition import PCA\n",
    "\n",
    "# Classifier models\n",
    "from sklearn.linear_model import LogisticRegression\n",
    "from sklearn.svm import SVC\n",
    "from sklearn.tree import DecisionTreeClassifier\n",
    "from sklearn.ensemble import RandomForestClassifier,AdaBoostClassifier,GradientBoostingClassifier,StackingClassifier\n",
    "\n",
    "# Hypertuning\n",
    "from sklearn.model_selection import GridSearchCV,RandomizedSearchCV\n",
    "\n",
    "# Cross-Validation\n",
    "from sklearn.model_selection import StratifiedKFold\n",
    "\n",
    "# Export Trained models\n",
    "import pickle\n",
    "\n",
    "import warnings\n",
    "warnings.filterwarnings(\"ignore\")"
   ]
  },
  {
   "cell_type": "markdown",
   "id": "4bbb4298",
   "metadata": {},
   "source": [
    "#### Loading the Training data and Testing data"
   ]
  },
  {
   "cell_type": "code",
   "execution_count": 122,
   "id": "a334c663",
   "metadata": {
    "ExecuteTime": {
     "end_time": "2023-01-17T06:00:26.416410Z",
     "start_time": "2023-01-17T06:00:26.322889Z"
    }
   },
   "outputs": [],
   "source": [
    "#Loading the data\n",
    "file_location = 'C:/Users/User/Desktop/E10901-PR2-V18_Certified Data Scientist - Project/data/processed/'\n",
    "train_data = pd.read_csv(file_location + 'train_data.csv')\n",
    "test_data = pd.read_csv(file_location + 'test_data.csv')"
   ]
  },
  {
   "cell_type": "code",
   "execution_count": 123,
   "id": "0a173511",
   "metadata": {
    "ExecuteTime": {
     "end_time": "2023-01-17T06:00:27.241115Z",
     "start_time": "2023-01-17T06:00:27.220122Z"
    }
   },
   "outputs": [
    {
     "name": "stdout",
     "output_type": "stream",
     "text": [
      "<class 'pandas.core.frame.DataFrame'>\n",
      "RangeIndex: 960 entries, 0 to 959\n",
      "Data columns (total 21 columns):\n",
      " #   Column                        Non-Null Count  Dtype \n",
      "---  ------                        --------------  ----- \n",
      " 0   Unnamed: 0                    960 non-null    int64 \n",
      " 1   Age                           960 non-null    int64 \n",
      " 2   MaritalStatus                 960 non-null    object\n",
      " 3   EmpDepartment                 960 non-null    object\n",
      " 4   EmpJobRole                    960 non-null    object\n",
      " 5   BusinessTravelFrequency       960 non-null    object\n",
      " 6   DistanceFromHome              960 non-null    int64 \n",
      " 7   EmpEducationLevel             960 non-null    int64 \n",
      " 8   EmpEnvironmentSatisfaction    960 non-null    int64 \n",
      " 9   EmpHourlyRate                 960 non-null    int64 \n",
      " 10  EmpJobInvolvement             960 non-null    int64 \n",
      " 11  EmpJobLevel                   960 non-null    int64 \n",
      " 12  NumCompaniesWorked            960 non-null    int64 \n",
      " 13  OverTime                      960 non-null    object\n",
      " 14  EmpLastSalaryHikePercent      960 non-null    int64 \n",
      " 15  EmpRelationshipSatisfaction   960 non-null    int64 \n",
      " 16  EmpWorkLifeBalance            960 non-null    int64 \n",
      " 17  ExperienceYearsInCurrentRole  960 non-null    int64 \n",
      " 18  YearsSinceLastPromotion       960 non-null    int64 \n",
      " 19  Attrition                     960 non-null    object\n",
      " 20  PerformanceRating             960 non-null    int64 \n",
      "dtypes: int64(15), object(6)\n",
      "memory usage: 157.6+ KB\n"
     ]
    }
   ],
   "source": [
    "train_data.info()"
   ]
  },
  {
   "cell_type": "code",
   "execution_count": 124,
   "id": "b1886bd7",
   "metadata": {
    "ExecuteTime": {
     "end_time": "2023-01-17T06:00:27.988977Z",
     "start_time": "2023-01-17T06:00:27.965993Z"
    }
   },
   "outputs": [
    {
     "name": "stdout",
     "output_type": "stream",
     "text": [
      "<class 'pandas.core.frame.DataFrame'>\n",
      "RangeIndex: 240 entries, 0 to 239\n",
      "Data columns (total 21 columns):\n",
      " #   Column                        Non-Null Count  Dtype \n",
      "---  ------                        --------------  ----- \n",
      " 0   Unnamed: 0                    240 non-null    int64 \n",
      " 1   Age                           240 non-null    int64 \n",
      " 2   MaritalStatus                 240 non-null    object\n",
      " 3   EmpDepartment                 240 non-null    object\n",
      " 4   EmpJobRole                    240 non-null    object\n",
      " 5   BusinessTravelFrequency       240 non-null    object\n",
      " 6   DistanceFromHome              240 non-null    int64 \n",
      " 7   EmpEducationLevel             240 non-null    int64 \n",
      " 8   EmpEnvironmentSatisfaction    240 non-null    int64 \n",
      " 9   EmpHourlyRate                 240 non-null    int64 \n",
      " 10  EmpJobInvolvement             240 non-null    int64 \n",
      " 11  EmpJobLevel                   240 non-null    int64 \n",
      " 12  NumCompaniesWorked            240 non-null    int64 \n",
      " 13  OverTime                      240 non-null    object\n",
      " 14  EmpLastSalaryHikePercent      240 non-null    int64 \n",
      " 15  EmpRelationshipSatisfaction   240 non-null    int64 \n",
      " 16  EmpWorkLifeBalance            240 non-null    int64 \n",
      " 17  ExperienceYearsInCurrentRole  240 non-null    int64 \n",
      " 18  YearsSinceLastPromotion       240 non-null    int64 \n",
      " 19  Attrition                     240 non-null    object\n",
      " 20  PerformanceRating             240 non-null    int64 \n",
      "dtypes: int64(15), object(6)\n",
      "memory usage: 39.5+ KB\n"
     ]
    }
   ],
   "source": [
    "test_data.info()"
   ]
  },
  {
   "cell_type": "code",
   "execution_count": 125,
   "id": "26668ac4",
   "metadata": {
    "ExecuteTime": {
     "end_time": "2023-01-17T06:00:29.849243Z",
     "start_time": "2023-01-17T06:00:29.815266Z"
    }
   },
   "outputs": [
    {
     "data": {
      "text/html": [
       "<div>\n",
       "<style scoped>\n",
       "    .dataframe tbody tr th:only-of-type {\n",
       "        vertical-align: middle;\n",
       "    }\n",
       "\n",
       "    .dataframe tbody tr th {\n",
       "        vertical-align: top;\n",
       "    }\n",
       "\n",
       "    .dataframe thead th {\n",
       "        text-align: right;\n",
       "    }\n",
       "</style>\n",
       "<table border=\"1\" class=\"dataframe\">\n",
       "  <thead>\n",
       "    <tr style=\"text-align: right;\">\n",
       "      <th></th>\n",
       "      <th>Unnamed: 0</th>\n",
       "      <th>Age</th>\n",
       "      <th>MaritalStatus</th>\n",
       "      <th>EmpDepartment</th>\n",
       "      <th>EmpJobRole</th>\n",
       "      <th>BusinessTravelFrequency</th>\n",
       "      <th>DistanceFromHome</th>\n",
       "      <th>EmpEducationLevel</th>\n",
       "      <th>EmpEnvironmentSatisfaction</th>\n",
       "      <th>EmpHourlyRate</th>\n",
       "      <th>EmpJobInvolvement</th>\n",
       "      <th>EmpJobLevel</th>\n",
       "      <th>NumCompaniesWorked</th>\n",
       "      <th>OverTime</th>\n",
       "      <th>EmpLastSalaryHikePercent</th>\n",
       "      <th>EmpRelationshipSatisfaction</th>\n",
       "      <th>EmpWorkLifeBalance</th>\n",
       "      <th>ExperienceYearsInCurrentRole</th>\n",
       "      <th>YearsSinceLastPromotion</th>\n",
       "      <th>Attrition</th>\n",
       "      <th>PerformanceRating</th>\n",
       "    </tr>\n",
       "  </thead>\n",
       "  <tbody>\n",
       "    <tr>\n",
       "      <th>0</th>\n",
       "      <td>437</td>\n",
       "      <td>28</td>\n",
       "      <td>Single</td>\n",
       "      <td>Sales</td>\n",
       "      <td>Sales Executive</td>\n",
       "      <td>Travel_Frequently</td>\n",
       "      <td>7</td>\n",
       "      <td>3</td>\n",
       "      <td>3</td>\n",
       "      <td>55</td>\n",
       "      <td>3</td>\n",
       "      <td>2</td>\n",
       "      <td>0</td>\n",
       "      <td>No</td>\n",
       "      <td>14</td>\n",
       "      <td>4</td>\n",
       "      <td>3</td>\n",
       "      <td>2</td>\n",
       "      <td>1</td>\n",
       "      <td>No</td>\n",
       "      <td>3</td>\n",
       "    </tr>\n",
       "    <tr>\n",
       "      <th>1</th>\n",
       "      <td>1091</td>\n",
       "      <td>25</td>\n",
       "      <td>Single</td>\n",
       "      <td>Sales</td>\n",
       "      <td>Sales Executive</td>\n",
       "      <td>Travel_Rarely</td>\n",
       "      <td>4</td>\n",
       "      <td>2</td>\n",
       "      <td>2</td>\n",
       "      <td>99</td>\n",
       "      <td>2</td>\n",
       "      <td>2</td>\n",
       "      <td>1</td>\n",
       "      <td>Yes</td>\n",
       "      <td>11</td>\n",
       "      <td>2</td>\n",
       "      <td>3</td>\n",
       "      <td>4</td>\n",
       "      <td>1</td>\n",
       "      <td>No</td>\n",
       "      <td>2</td>\n",
       "    </tr>\n",
       "    <tr>\n",
       "      <th>2</th>\n",
       "      <td>327</td>\n",
       "      <td>25</td>\n",
       "      <td>Single</td>\n",
       "      <td>Research &amp; Development</td>\n",
       "      <td>Research Scientist</td>\n",
       "      <td>Travel_Rarely</td>\n",
       "      <td>1</td>\n",
       "      <td>3</td>\n",
       "      <td>4</td>\n",
       "      <td>40</td>\n",
       "      <td>3</td>\n",
       "      <td>1</td>\n",
       "      <td>1</td>\n",
       "      <td>No</td>\n",
       "      <td>18</td>\n",
       "      <td>4</td>\n",
       "      <td>2</td>\n",
       "      <td>2</td>\n",
       "      <td>2</td>\n",
       "      <td>No</td>\n",
       "      <td>3</td>\n",
       "    </tr>\n",
       "    <tr>\n",
       "      <th>3</th>\n",
       "      <td>576</td>\n",
       "      <td>31</td>\n",
       "      <td>Married</td>\n",
       "      <td>Sales</td>\n",
       "      <td>Sales Executive</td>\n",
       "      <td>Travel_Rarely</td>\n",
       "      <td>5</td>\n",
       "      <td>3</td>\n",
       "      <td>1</td>\n",
       "      <td>51</td>\n",
       "      <td>3</td>\n",
       "      <td>2</td>\n",
       "      <td>1</td>\n",
       "      <td>No</td>\n",
       "      <td>19</td>\n",
       "      <td>3</td>\n",
       "      <td>3</td>\n",
       "      <td>2</td>\n",
       "      <td>0</td>\n",
       "      <td>No</td>\n",
       "      <td>4</td>\n",
       "    </tr>\n",
       "    <tr>\n",
       "      <th>4</th>\n",
       "      <td>1078</td>\n",
       "      <td>30</td>\n",
       "      <td>Married</td>\n",
       "      <td>Sales</td>\n",
       "      <td>Sales Representative</td>\n",
       "      <td>Travel_Rarely</td>\n",
       "      <td>2</td>\n",
       "      <td>1</td>\n",
       "      <td>3</td>\n",
       "      <td>72</td>\n",
       "      <td>3</td>\n",
       "      <td>1</td>\n",
       "      <td>1</td>\n",
       "      <td>No</td>\n",
       "      <td>18</td>\n",
       "      <td>1</td>\n",
       "      <td>3</td>\n",
       "      <td>0</td>\n",
       "      <td>0</td>\n",
       "      <td>No</td>\n",
       "      <td>3</td>\n",
       "    </tr>\n",
       "  </tbody>\n",
       "</table>\n",
       "</div>"
      ],
      "text/plain": [
       "   Unnamed: 0  Age MaritalStatus           EmpDepartment  \\\n",
       "0         437   28        Single                   Sales   \n",
       "1        1091   25        Single                   Sales   \n",
       "2         327   25        Single  Research & Development   \n",
       "3         576   31       Married                   Sales   \n",
       "4        1078   30       Married                   Sales   \n",
       "\n",
       "             EmpJobRole BusinessTravelFrequency  DistanceFromHome  \\\n",
       "0       Sales Executive       Travel_Frequently                 7   \n",
       "1       Sales Executive           Travel_Rarely                 4   \n",
       "2    Research Scientist           Travel_Rarely                 1   \n",
       "3       Sales Executive           Travel_Rarely                 5   \n",
       "4  Sales Representative           Travel_Rarely                 2   \n",
       "\n",
       "   EmpEducationLevel  EmpEnvironmentSatisfaction  EmpHourlyRate  \\\n",
       "0                  3                           3             55   \n",
       "1                  2                           2             99   \n",
       "2                  3                           4             40   \n",
       "3                  3                           1             51   \n",
       "4                  1                           3             72   \n",
       "\n",
       "   EmpJobInvolvement  EmpJobLevel  NumCompaniesWorked OverTime  \\\n",
       "0                  3            2                   0       No   \n",
       "1                  2            2                   1      Yes   \n",
       "2                  3            1                   1       No   \n",
       "3                  3            2                   1       No   \n",
       "4                  3            1                   1       No   \n",
       "\n",
       "   EmpLastSalaryHikePercent  EmpRelationshipSatisfaction  EmpWorkLifeBalance  \\\n",
       "0                        14                            4                   3   \n",
       "1                        11                            2                   3   \n",
       "2                        18                            4                   2   \n",
       "3                        19                            3                   3   \n",
       "4                        18                            1                   3   \n",
       "\n",
       "   ExperienceYearsInCurrentRole  YearsSinceLastPromotion Attrition  \\\n",
       "0                             2                        1        No   \n",
       "1                             4                        1        No   \n",
       "2                             2                        2        No   \n",
       "3                             2                        0        No   \n",
       "4                             0                        0        No   \n",
       "\n",
       "   PerformanceRating  \n",
       "0                  3  \n",
       "1                  2  \n",
       "2                  3  \n",
       "3                  4  \n",
       "4                  3  "
      ]
     },
     "execution_count": 125,
     "metadata": {},
     "output_type": "execute_result"
    }
   ],
   "source": [
    "train_data.head()"
   ]
  },
  {
   "cell_type": "code",
   "execution_count": 126,
   "id": "5fad06c8",
   "metadata": {
    "ExecuteTime": {
     "end_time": "2023-01-17T06:00:30.363249Z",
     "start_time": "2023-01-17T06:00:30.335244Z"
    }
   },
   "outputs": [
    {
     "data": {
      "text/html": [
       "<div>\n",
       "<style scoped>\n",
       "    .dataframe tbody tr th:only-of-type {\n",
       "        vertical-align: middle;\n",
       "    }\n",
       "\n",
       "    .dataframe tbody tr th {\n",
       "        vertical-align: top;\n",
       "    }\n",
       "\n",
       "    .dataframe thead th {\n",
       "        text-align: right;\n",
       "    }\n",
       "</style>\n",
       "<table border=\"1\" class=\"dataframe\">\n",
       "  <thead>\n",
       "    <tr style=\"text-align: right;\">\n",
       "      <th></th>\n",
       "      <th>Unnamed: 0</th>\n",
       "      <th>Age</th>\n",
       "      <th>MaritalStatus</th>\n",
       "      <th>EmpDepartment</th>\n",
       "      <th>EmpJobRole</th>\n",
       "      <th>BusinessTravelFrequency</th>\n",
       "      <th>DistanceFromHome</th>\n",
       "      <th>EmpEducationLevel</th>\n",
       "      <th>EmpEnvironmentSatisfaction</th>\n",
       "      <th>EmpHourlyRate</th>\n",
       "      <th>EmpJobInvolvement</th>\n",
       "      <th>EmpJobLevel</th>\n",
       "      <th>NumCompaniesWorked</th>\n",
       "      <th>OverTime</th>\n",
       "      <th>EmpLastSalaryHikePercent</th>\n",
       "      <th>EmpRelationshipSatisfaction</th>\n",
       "      <th>EmpWorkLifeBalance</th>\n",
       "      <th>ExperienceYearsInCurrentRole</th>\n",
       "      <th>YearsSinceLastPromotion</th>\n",
       "      <th>Attrition</th>\n",
       "      <th>PerformanceRating</th>\n",
       "    </tr>\n",
       "  </thead>\n",
       "  <tbody>\n",
       "    <tr>\n",
       "      <th>0</th>\n",
       "      <td>811</td>\n",
       "      <td>35</td>\n",
       "      <td>Married</td>\n",
       "      <td>Development</td>\n",
       "      <td>Business Analyst</td>\n",
       "      <td>Travel_Rarely</td>\n",
       "      <td>23</td>\n",
       "      <td>4</td>\n",
       "      <td>3</td>\n",
       "      <td>30</td>\n",
       "      <td>3</td>\n",
       "      <td>1</td>\n",
       "      <td>3</td>\n",
       "      <td>Yes</td>\n",
       "      <td>15</td>\n",
       "      <td>3</td>\n",
       "      <td>3</td>\n",
       "      <td>2</td>\n",
       "      <td>2</td>\n",
       "      <td>No</td>\n",
       "      <td>3</td>\n",
       "    </tr>\n",
       "    <tr>\n",
       "      <th>1</th>\n",
       "      <td>1149</td>\n",
       "      <td>26</td>\n",
       "      <td>Single</td>\n",
       "      <td>Development</td>\n",
       "      <td>Developer</td>\n",
       "      <td>Travel_Rarely</td>\n",
       "      <td>24</td>\n",
       "      <td>3</td>\n",
       "      <td>3</td>\n",
       "      <td>66</td>\n",
       "      <td>1</td>\n",
       "      <td>1</td>\n",
       "      <td>1</td>\n",
       "      <td>Yes</td>\n",
       "      <td>18</td>\n",
       "      <td>2</td>\n",
       "      <td>1</td>\n",
       "      <td>0</td>\n",
       "      <td>0</td>\n",
       "      <td>Yes</td>\n",
       "      <td>3</td>\n",
       "    </tr>\n",
       "    <tr>\n",
       "      <th>2</th>\n",
       "      <td>662</td>\n",
       "      <td>36</td>\n",
       "      <td>Married</td>\n",
       "      <td>Sales</td>\n",
       "      <td>Sales Executive</td>\n",
       "      <td>Travel_Rarely</td>\n",
       "      <td>17</td>\n",
       "      <td>2</td>\n",
       "      <td>3</td>\n",
       "      <td>33</td>\n",
       "      <td>2</td>\n",
       "      <td>2</td>\n",
       "      <td>2</td>\n",
       "      <td>No</td>\n",
       "      <td>16</td>\n",
       "      <td>3</td>\n",
       "      <td>1</td>\n",
       "      <td>2</td>\n",
       "      <td>1</td>\n",
       "      <td>No</td>\n",
       "      <td>2</td>\n",
       "    </tr>\n",
       "    <tr>\n",
       "      <th>3</th>\n",
       "      <td>542</td>\n",
       "      <td>53</td>\n",
       "      <td>Married</td>\n",
       "      <td>Finance</td>\n",
       "      <td>Finance Manager</td>\n",
       "      <td>Travel_Rarely</td>\n",
       "      <td>24</td>\n",
       "      <td>4</td>\n",
       "      <td>2</td>\n",
       "      <td>48</td>\n",
       "      <td>4</td>\n",
       "      <td>3</td>\n",
       "      <td>3</td>\n",
       "      <td>No</td>\n",
       "      <td>15</td>\n",
       "      <td>3</td>\n",
       "      <td>3</td>\n",
       "      <td>3</td>\n",
       "      <td>1</td>\n",
       "      <td>No</td>\n",
       "      <td>2</td>\n",
       "    </tr>\n",
       "    <tr>\n",
       "      <th>4</th>\n",
       "      <td>858</td>\n",
       "      <td>34</td>\n",
       "      <td>Divorced</td>\n",
       "      <td>Development</td>\n",
       "      <td>Business Analyst</td>\n",
       "      <td>Travel_Rarely</td>\n",
       "      <td>6</td>\n",
       "      <td>4</td>\n",
       "      <td>3</td>\n",
       "      <td>45</td>\n",
       "      <td>2</td>\n",
       "      <td>2</td>\n",
       "      <td>6</td>\n",
       "      <td>No</td>\n",
       "      <td>15</td>\n",
       "      <td>3</td>\n",
       "      <td>3</td>\n",
       "      <td>0</td>\n",
       "      <td>0</td>\n",
       "      <td>No</td>\n",
       "      <td>3</td>\n",
       "    </tr>\n",
       "  </tbody>\n",
       "</table>\n",
       "</div>"
      ],
      "text/plain": [
       "   Unnamed: 0  Age MaritalStatus EmpDepartment        EmpJobRole  \\\n",
       "0         811   35       Married   Development  Business Analyst   \n",
       "1        1149   26        Single   Development         Developer   \n",
       "2         662   36       Married         Sales   Sales Executive   \n",
       "3         542   53       Married       Finance   Finance Manager   \n",
       "4         858   34      Divorced   Development  Business Analyst   \n",
       "\n",
       "  BusinessTravelFrequency  DistanceFromHome  EmpEducationLevel  \\\n",
       "0           Travel_Rarely                23                  4   \n",
       "1           Travel_Rarely                24                  3   \n",
       "2           Travel_Rarely                17                  2   \n",
       "3           Travel_Rarely                24                  4   \n",
       "4           Travel_Rarely                 6                  4   \n",
       "\n",
       "   EmpEnvironmentSatisfaction  EmpHourlyRate  EmpJobInvolvement  EmpJobLevel  \\\n",
       "0                           3             30                  3            1   \n",
       "1                           3             66                  1            1   \n",
       "2                           3             33                  2            2   \n",
       "3                           2             48                  4            3   \n",
       "4                           3             45                  2            2   \n",
       "\n",
       "   NumCompaniesWorked OverTime  EmpLastSalaryHikePercent  \\\n",
       "0                   3      Yes                        15   \n",
       "1                   1      Yes                        18   \n",
       "2                   2       No                        16   \n",
       "3                   3       No                        15   \n",
       "4                   6       No                        15   \n",
       "\n",
       "   EmpRelationshipSatisfaction  EmpWorkLifeBalance  \\\n",
       "0                            3                   3   \n",
       "1                            2                   1   \n",
       "2                            3                   1   \n",
       "3                            3                   3   \n",
       "4                            3                   3   \n",
       "\n",
       "   ExperienceYearsInCurrentRole  YearsSinceLastPromotion Attrition  \\\n",
       "0                             2                        2        No   \n",
       "1                             0                        0       Yes   \n",
       "2                             2                        1        No   \n",
       "3                             3                        1        No   \n",
       "4                             0                        0        No   \n",
       "\n",
       "   PerformanceRating  \n",
       "0                  3  \n",
       "1                  3  \n",
       "2                  2  \n",
       "3                  2  \n",
       "4                  3  "
      ]
     },
     "execution_count": 126,
     "metadata": {},
     "output_type": "execute_result"
    }
   ],
   "source": [
    "test_data.head()"
   ]
  },
  {
   "cell_type": "markdown",
   "id": "9a5221c5",
   "metadata": {},
   "source": [
    "Unnamed: 0 column is the index from the raw data, hence we can ignore that column"
   ]
  },
  {
   "cell_type": "markdown",
   "id": "d7b27661",
   "metadata": {},
   "source": [
    "#### Independent and Dependent variable creation"
   ]
  },
  {
   "cell_type": "code",
   "execution_count": 129,
   "id": "8a994c3c",
   "metadata": {
    "ExecuteTime": {
     "end_time": "2023-01-17T06:00:48.167330Z",
     "start_time": "2023-01-17T06:00:48.151318Z"
    }
   },
   "outputs": [],
   "source": [
    "X_train = train_data.iloc[:,1:-1] # Independent variable\n",
    "y_train = train_data.PerformanceRating # Dependent variable\n",
    "\n",
    "X_test = test_data.iloc[:,1:-1] # Independent variable\n",
    "y_test = test_data.PerformanceRating # Dependent variable"
   ]
  },
  {
   "cell_type": "code",
   "execution_count": 130,
   "id": "306cee0f",
   "metadata": {
    "ExecuteTime": {
     "end_time": "2023-01-17T06:00:49.854201Z",
     "start_time": "2023-01-17T06:00:49.841183Z"
    }
   },
   "outputs": [
    {
     "data": {
      "text/plain": [
       "((960, 19), (240, 19))"
      ]
     },
     "execution_count": 130,
     "metadata": {},
     "output_type": "execute_result"
    }
   ],
   "source": [
    "X_train.shape,X_test.shape"
   ]
  },
  {
   "cell_type": "code",
   "execution_count": 131,
   "id": "4bc6a2fb",
   "metadata": {
    "ExecuteTime": {
     "end_time": "2023-01-17T06:01:04.054723Z",
     "start_time": "2023-01-17T06:01:04.031731Z"
    }
   },
   "outputs": [
    {
     "data": {
      "text/plain": [
       "(3    699\n",
       " 2    155\n",
       " 4    106\n",
       " Name: PerformanceRating, dtype: int64,\n",
       " 3    175\n",
       " 2     39\n",
       " 4     26\n",
       " Name: PerformanceRating, dtype: int64)"
      ]
     },
     "execution_count": 131,
     "metadata": {},
     "output_type": "execute_result"
    }
   ],
   "source": [
    "y_train.value_counts(), y_test.value_counts()"
   ]
  },
  {
   "cell_type": "code",
   "execution_count": 132,
   "id": "8b841c0c",
   "metadata": {
    "ExecuteTime": {
     "end_time": "2023-01-17T06:01:21.919282Z",
     "start_time": "2023-01-17T06:01:21.706010Z"
    }
   },
   "outputs": [
    {
     "data": {
      "text/plain": [
       "Text(0.5, 1.0, 'Training Data - Target distributions')"
      ]
     },
     "execution_count": 132,
     "metadata": {},
     "output_type": "execute_result"
    },
    {
     "data": {
      "image/png": "[encoded data removed]",
      "text/plain": [
       "<Figure size 360x360 with 1 Axes>"
      ]
     },
     "metadata": {},
     "output_type": "display_data"
    }
   ],
   "source": [
    "# Plotting pie chart for y_train distribution of PerformanceRating\n",
    "plt.rc('font', size=13) \n",
    "plt.rcParams[\"figure.figsize\"] = (5,5)\n",
    "y_train.value_counts().plot(kind='pie',autopct = '%0.2f%%')\n",
    "plt.title(\"Training Data - Target distributions\",fontsize=18)"
   ]
  },
  {
   "cell_type": "markdown",
   "id": "83aecfbe",
   "metadata": {},
   "source": [
    "We will oversample the training data using SMOTE sampling technique and see how the model is performing"
   ]
  },
  {
   "cell_type": "markdown",
   "id": "1768b646",
   "metadata": {},
   "source": [
    "#### Feature Transformation using ColumnTransformer"
   ]
  },
  {
   "cell_type": "code",
   "execution_count": 133,
   "id": "01a4bca3",
   "metadata": {
    "ExecuteTime": {
     "end_time": "2023-01-17T06:01:23.194937Z",
     "start_time": "2023-01-17T06:01:23.171928Z"
    }
   },
   "outputs": [
    {
     "data": {
      "text/plain": [
       "Age                              int64\n",
       "MaritalStatus                   object\n",
       "EmpDepartment                   object\n",
       "EmpJobRole                      object\n",
       "BusinessTravelFrequency         object\n",
       "DistanceFromHome                 int64\n",
       "EmpEducationLevel                int64\n",
       "EmpEnvironmentSatisfaction       int64\n",
       "EmpHourlyRate                    int64\n",
       "EmpJobInvolvement                int64\n",
       "EmpJobLevel                      int64\n",
       "NumCompaniesWorked               int64\n",
       "OverTime                        object\n",
       "EmpLastSalaryHikePercent         int64\n",
       "EmpRelationshipSatisfaction      int64\n",
       "EmpWorkLifeBalance               int64\n",
       "ExperienceYearsInCurrentRole     int64\n",
       "YearsSinceLastPromotion          int64\n",
       "Attrition                       object\n",
       "dtype: object"
      ]
     },
     "execution_count": 133,
     "metadata": {},
     "output_type": "execute_result"
    }
   ],
   "source": [
    "X_train.dtypes"
   ]
  },
  {
   "cell_type": "code",
   "execution_count": 134,
   "id": "28605127",
   "metadata": {
    "ExecuteTime": {
     "end_time": "2023-01-17T06:01:23.726478Z",
     "start_time": "2023-01-17T06:01:23.710455Z"
    }
   },
   "outputs": [],
   "source": [
    "# Updating the numerical_features,categorical_features and positively_skewed lists\n",
    "numerical_features_updated = ['Age',\n",
    "                              'DistanceFromHome',\n",
    "                              'EmpHourlyRate',\n",
    "                              'NumCompaniesWorked',\n",
    "                              'EmpLastSalaryHikePercent',\n",
    "                              'ExperienceYearsInCurrentRole',\n",
    "                              'YearsSinceLastPromotion']\n",
    "\n",
    "categorical_features_updated =['MaritalStatus',\n",
    "                               'EmpDepartment',\n",
    "                               'EmpJobRole',\n",
    "                               'BusinessTravelFrequency',\n",
    "                               'EmpEducationLevel',\n",
    "                               'EmpEnvironmentSatisfaction',\n",
    "                               'EmpJobInvolvement',\n",
    "                               'EmpJobLevel',\n",
    "                               'OverTime',\n",
    "                               'EmpRelationshipSatisfaction',\n",
    "                               'EmpWorkLifeBalance',\n",
    "                               'Attrition']\n",
    "\n",
    "positively_skewed_updated = ['DistanceFromHome',\n",
    "                             'NumCompaniesWorked',\n",
    "                             'EmpLastSalaryHikePercent',\n",
    "                             'ExperienceYearsInCurrentRole',\n",
    "                             'YearsSinceLastPromotion'\n",
    "                            ]"
   ]
  },
  {
   "cell_type": "code",
   "execution_count": 135,
   "id": "4fb137d6",
   "metadata": {
    "ExecuteTime": {
     "end_time": "2023-01-17T06:01:24.811440Z",
     "start_time": "2023-01-17T06:01:24.793451Z"
    }
   },
   "outputs": [
    {
     "data": {
      "text/plain": [
       "MaritalStatus                   3\n",
       "EmpDepartment                   6\n",
       "EmpJobRole                     19\n",
       "BusinessTravelFrequency         3\n",
       "EmpEducationLevel               5\n",
       "EmpEnvironmentSatisfaction      4\n",
       "EmpJobInvolvement               4\n",
       "EmpJobLevel                     5\n",
       "OverTime                        2\n",
       "EmpRelationshipSatisfaction     4\n",
       "EmpWorkLifeBalance              4\n",
       "Attrition                       2\n",
       "dtype: int64"
      ]
     },
     "execution_count": 135,
     "metadata": {},
     "output_type": "execute_result"
    }
   ],
   "source": [
    "X_train[categorical_features_updated].nunique()"
   ]
  },
  {
   "cell_type": "markdown",
   "id": "0f2b208a",
   "metadata": {
    "ExecuteTime": {
     "end_time": "2023-01-16T14:53:01.612452Z",
     "start_time": "2023-01-16T14:53:01.582465Z"
    }
   },
   "source": [
    "* Categorical features will be handled by using OnehotEncoding Technique with dropping first column\n",
    "* Positive skewed numerical features will be handled using Square Root Transformation through FunctionTransformer\n",
    "* Numerical features will be scaled using StandardScaler to get standardized distribution"
   ]
  },
  {
   "cell_type": "code",
   "execution_count": 136,
   "id": "fc2e9365",
   "metadata": {
    "ExecuteTime": {
     "end_time": "2023-01-17T06:01:26.414326Z",
     "start_time": "2023-01-17T06:01:26.393315Z"
    }
   },
   "outputs": [],
   "source": [
    "cols_trans = ColumnTransformer([\n",
    "    ('one_hot_encoding', OneHotEncoder(handle_unknown = 'ignore',drop = 'first'), categorical_features_updated),\n",
    "    ('square_root_transformation', FunctionTransformer(np.sqrt), positively_skewed_updated),\n",
    "    ('scale_continuos_features', StandardScaler(), numerical_features_updated)])  "
   ]
  },
  {
   "cell_type": "code",
   "execution_count": 137,
   "id": "544098ea",
   "metadata": {
    "ExecuteTime": {
     "end_time": "2023-01-17T06:01:26.914670Z",
     "start_time": "2023-01-17T06:01:26.890686Z"
    }
   },
   "outputs": [
    {
     "name": "stdout",
     "output_type": "stream",
     "text": [
      "Total number of categorical features before applying One Hot Encoding Technique 12\n",
      "Total number of expected categorical features after applying One Hot Encoding Technique 49\n",
      "Total number of features before Feature Transformation : 19\n",
      "Total number of features after Feature Transformation will be 56\n"
     ]
    }
   ],
   "source": [
    "# Total number of features after encoding the categorical variabales using One Hot Encoding Technique\n",
    "print('Total number of categorical features before applying One Hot Encoding Technique',len(categorical_features_updated))\n",
    "print('Total number of expected categorical features after applying One Hot Encoding Technique',\n",
    "      X_train[categorical_features_updated].nunique().sum() - len(categorical_features_updated))\n",
    "print('Total number of features before Feature Transformation :',X_train.shape[1])\n",
    "print('Total number of features after Feature Transformation will be',\n",
    "      X_train[categorical_features_updated].nunique().sum() - \n",
    "      len(categorical_features_updated) + len(numerical_features_updated))"
   ]
  },
  {
   "cell_type": "markdown",
   "id": "5cc8c99d",
   "metadata": {},
   "source": [
    "Feature extraction will be done using Principal Component Analysis (PCA) technique to reduce the dimensionality of the transformed dataset. "
   ]
  },
  {
   "cell_type": "markdown",
   "id": "640dace8",
   "metadata": {},
   "source": [
    "#### Creating multiple models with default parameters with smote and without smote to see which model is performing well with the  dataset"
   ]
  },
  {
   "cell_type": "code",
   "execution_count": 138,
   "id": "d22100ea",
   "metadata": {
    "ExecuteTime": {
     "end_time": "2023-01-17T06:02:09.593771Z",
     "start_time": "2023-01-17T06:02:09.573760Z"
    }
   },
   "outputs": [],
   "source": [
    "# setting default parameter for multiple models\n",
    "logistic = LogisticRegression(random_state=42,class_weight='balanced')\n",
    "svc = SVC(random_state=42)\n",
    "decision_tree = DecisionTreeClassifier(random_state=42,class_weight='balanced')\n",
    "random_forest = RandomForestClassifier(random_state=42,class_weight='balanced')\n",
    "adaboost = AdaBoostClassifier(random_state=42)\n",
    "gradient = GradientBoostingClassifier(random_state=42)"
   ]
  },
  {
   "cell_type": "code",
   "execution_count": 139,
   "id": "bbcc7f1d",
   "metadata": {
    "ExecuteTime": {
     "end_time": "2023-01-17T06:02:42.006884Z",
     "start_time": "2023-01-17T06:02:10.213659Z"
    }
   },
   "outputs": [
    {
     "data": {
      "text/html": [
       "<div>\n",
       "<style scoped>\n",
       "    .dataframe tbody tr th:only-of-type {\n",
       "        vertical-align: middle;\n",
       "    }\n",
       "\n",
       "    .dataframe tbody tr th {\n",
       "        vertical-align: top;\n",
       "    }\n",
       "\n",
       "    .dataframe thead th {\n",
       "        text-align: right;\n",
       "    }\n",
       "</style>\n",
       "<table border=\"1\" class=\"dataframe\">\n",
       "  <thead>\n",
       "    <tr style=\"text-align: right;\">\n",
       "      <th></th>\n",
       "      <th>train_score</th>\n",
       "      <th>train_score_smote</th>\n",
       "      <th>test_score</th>\n",
       "      <th>test_score_smote</th>\n",
       "    </tr>\n",
       "  </thead>\n",
       "  <tbody>\n",
       "    <tr>\n",
       "      <th>LogisticRegression</th>\n",
       "      <td>0.863542</td>\n",
       "      <td>0.872917</td>\n",
       "      <td>0.866667</td>\n",
       "      <td>0.858333</td>\n",
       "    </tr>\n",
       "    <tr>\n",
       "      <th>Support Vector Classifier</th>\n",
       "      <td>0.939583</td>\n",
       "      <td>0.952083</td>\n",
       "      <td>0.833333</td>\n",
       "      <td>0.829167</td>\n",
       "    </tr>\n",
       "    <tr>\n",
       "      <th>Decision Tree Classifier</th>\n",
       "      <td>1.000000</td>\n",
       "      <td>1.000000</td>\n",
       "      <td>0.808333</td>\n",
       "      <td>0.725000</td>\n",
       "    </tr>\n",
       "    <tr>\n",
       "      <th>Random Forest Classifier</th>\n",
       "      <td>1.000000</td>\n",
       "      <td>1.000000</td>\n",
       "      <td>0.800000</td>\n",
       "      <td>0.783333</td>\n",
       "    </tr>\n",
       "    <tr>\n",
       "      <th>AdaBoost Classifier</th>\n",
       "      <td>0.872917</td>\n",
       "      <td>0.831250</td>\n",
       "      <td>0.816667</td>\n",
       "      <td>0.725000</td>\n",
       "    </tr>\n",
       "    <tr>\n",
       "      <th>Gradient Boosting Classifier</th>\n",
       "      <td>1.000000</td>\n",
       "      <td>1.000000</td>\n",
       "      <td>0.850000</td>\n",
       "      <td>0.783333</td>\n",
       "    </tr>\n",
       "  </tbody>\n",
       "</table>\n",
       "</div>"
      ],
      "text/plain": [
       "                              train_score  train_score_smote  test_score  \\\n",
       "LogisticRegression               0.863542           0.872917    0.866667   \n",
       "Support Vector Classifier        0.939583           0.952083    0.833333   \n",
       "Decision Tree Classifier         1.000000           1.000000    0.808333   \n",
       "Random Forest Classifier         1.000000           1.000000    0.800000   \n",
       "AdaBoost Classifier              0.872917           0.831250    0.816667   \n",
       "Gradient Boosting Classifier     1.000000           1.000000    0.850000   \n",
       "\n",
       "                              test_score_smote  \n",
       "LogisticRegression                    0.858333  \n",
       "Support Vector Classifier             0.829167  \n",
       "Decision Tree Classifier              0.725000  \n",
       "Random Forest Classifier              0.783333  \n",
       "AdaBoost Classifier                   0.725000  \n",
       "Gradient Boosting Classifier          0.783333  "
      ]
     },
     "execution_count": 139,
     "metadata": {},
     "output_type": "execute_result"
    }
   ],
   "source": [
    "models = [logistic,svc,decision_tree,random_forest,adaboost,gradient]\n",
    "\n",
    "models_list = ['LogisticRegression','Support Vector Classifier','Decision Tree Classifier',\n",
    "               'Random Forest Classifier','AdaBoost Classifier','Gradient Boosting Classifier']\n",
    "\n",
    "# Creating empty lists to store the results\n",
    "train_score = []\n",
    "test_score = []\n",
    "train_score_smote = []\n",
    "test_score_smote = []\n",
    "\n",
    "for model in models:\n",
    "    # model creation without using sampling technique SMOTE and check performance\n",
    "    model_ = Pipeline(steps=[('trans', cols_trans), # Feature Transformation\n",
    "                             ('pca', PCA(n_components=45)), # Feature Extraction\n",
    "                             ('lr_multi',model)]).fit(X_train,y_train) # build and train the model \n",
    "    train_score.append(model_.score(X_train, y_train)) # Train score \n",
    "    test_score.append(model_.score(X_test, y_test)) # Test score\n",
    "    \n",
    "    # model creation using sampling technique SMOTE and check performance\n",
    "    model_ = Pipeline(steps=[('trans', cols_trans), # Feature Transformation\n",
    "                             ('over_sampling', SMOTE(random_state=40,sampling_strategy='minority')), #sampling technique to handle imbalance data\n",
    "                             ('pca', PCA(n_components=45)), # Feature Extraction\n",
    "                             ('lr_multi',model)]).fit(X_train,y_train) # build and train the model\n",
    "    train_score_smote.append(model_.score(X_train, y_train))\n",
    "    test_score_smote.append(model_.score(X_test, y_test))\n",
    "\n",
    "results_list = list(zip(train_score,train_score_smote,test_score,test_score_smote))\n",
    "result_df = pd.DataFrame(results_list,columns=['train_score','train_score_smote','test_score','test_score_smote'],\n",
    "                        index = models_list)\n",
    "result_df"
   ]
  },
  {
   "cell_type": "markdown",
   "id": "69b92064",
   "metadata": {},
   "source": [
    "* As pipeline is used for Data Pre-processing, n_components for PCA is decided based on the results from multiple manual execution of the pipeline.\n",
    "* Models performing good without SMOTE oversampling technique, so prediction models created without using SMOTE."
   ]
  },
  {
   "cell_type": "markdown",
   "id": "f9c1b1c3",
   "metadata": {},
   "source": [
    "#### Model Creation"
   ]
  },
  {
   "cell_type": "markdown",
   "id": "b2fc759a",
   "metadata": {
    "ExecuteTime": {
     "end_time": "2023-01-18T02:00:52.915582Z",
     "start_time": "2023-01-18T02:00:52.875604Z"
    }
   },
   "source": [
    "* Feature Transformation and Feature Extraction (using Principal Component Analysis) is performed during model creation via pipeline.\n",
    "* PCA hyperparameter n_component hypertuned with range 40-45 to improve the model performance\n",
    "* As the training data is imbalanced, f1_macro is used instead of accuracy as scoring parameter for Hyperparameter tuning.\n",
    "* Macro Average F1 score is the unweighted mean of the F1 scores calculated per class. So, it is used as scoring parameter for hypertuning model\n",
    "* StratifiedKFold Cross Validation Technique with 3 splits to understand the consistency of the model with different subset data as the measure of model stability using mean and standard deviation of the performance scores."
   ]
  },
  {
   "cell_type": "markdown",
   "id": "b179636f",
   "metadata": {},
   "source": [
    "##### Hypertuning Logistic Regression parameters using GridsearchCV"
   ]
  },
  {
   "cell_type": "code",
   "execution_count": 198,
   "id": "066109c1",
   "metadata": {
    "ExecuteTime": {
     "end_time": "2023-01-14T23:41:47.257283Z",
     "start_time": "2023-01-14T23:37:56.357885Z"
    }
   },
   "outputs": [
    {
     "name": "stdout",
     "output_type": "stream",
     "text": [
      "Best f1_macro score :  0.7691500091850942\n"
     ]
    },
    {
     "data": {
      "text/html": [
       "<div>\n",
       "<style scoped>\n",
       "    .dataframe tbody tr th:only-of-type {\n",
       "        vertical-align: middle;\n",
       "    }\n",
       "\n",
       "    .dataframe tbody tr th {\n",
       "        vertical-align: top;\n",
       "    }\n",
       "\n",
       "    .dataframe thead th {\n",
       "        text-align: right;\n",
       "    }\n",
       "</style>\n",
       "<table border=\"1\" class=\"dataframe\">\n",
       "  <thead>\n",
       "    <tr style=\"text-align: right;\">\n",
       "      <th></th>\n",
       "      <th>mean_fit_time</th>\n",
       "      <th>std_fit_time</th>\n",
       "      <th>mean_score_time</th>\n",
       "      <th>std_score_time</th>\n",
       "      <th>param_lr__C</th>\n",
       "      <th>param_lr__max_iter</th>\n",
       "      <th>param_lr__solver</th>\n",
       "      <th>param_pca__n_components</th>\n",
       "      <th>params</th>\n",
       "      <th>split0_test_score</th>\n",
       "      <th>split1_test_score</th>\n",
       "      <th>split2_test_score</th>\n",
       "      <th>mean_test_score</th>\n",
       "      <th>std_test_score</th>\n",
       "      <th>rank_test_score</th>\n",
       "      <th>split0_train_score</th>\n",
       "      <th>split1_train_score</th>\n",
       "      <th>split2_train_score</th>\n",
       "      <th>mean_train_score</th>\n",
       "      <th>std_train_score</th>\n",
       "    </tr>\n",
       "  </thead>\n",
       "  <tbody>\n",
       "    <tr>\n",
       "      <th>544</th>\n",
       "      <td>0.103533</td>\n",
       "      <td>6.785093e-03</td>\n",
       "      <td>0.019869</td>\n",
       "      <td>3.872414e-03</td>\n",
       "      <td>1</td>\n",
       "      <td>50</td>\n",
       "      <td>liblinear</td>\n",
       "      <td>44</td>\n",
       "      <td>{'lr__C': 1, 'lr__max_iter': 50, 'lr__solver':...</td>\n",
       "      <td>0.754984</td>\n",
       "      <td>0.787274</td>\n",
       "      <td>0.765192</td>\n",
       "      <td>0.76915</td>\n",
       "      <td>0.013476</td>\n",
       "      <td>1</td>\n",
       "      <td>0.830867</td>\n",
       "      <td>0.860586</td>\n",
       "      <td>0.831457</td>\n",
       "      <td>0.84097</td>\n",
       "      <td>0.013873</td>\n",
       "    </tr>\n",
       "    <tr>\n",
       "      <th>574</th>\n",
       "      <td>0.138254</td>\n",
       "      <td>1.291114e-02</td>\n",
       "      <td>0.032315</td>\n",
       "      <td>3.299850e-03</td>\n",
       "      <td>1</td>\n",
       "      <td>100</td>\n",
       "      <td>liblinear</td>\n",
       "      <td>44</td>\n",
       "      <td>{'lr__C': 1, 'lr__max_iter': 100, 'lr__solver'...</td>\n",
       "      <td>0.754984</td>\n",
       "      <td>0.787274</td>\n",
       "      <td>0.765192</td>\n",
       "      <td>0.76915</td>\n",
       "      <td>0.013476</td>\n",
       "      <td>1</td>\n",
       "      <td>0.830867</td>\n",
       "      <td>0.860586</td>\n",
       "      <td>0.831457</td>\n",
       "      <td>0.84097</td>\n",
       "      <td>0.013873</td>\n",
       "    </tr>\n",
       "    <tr>\n",
       "      <th>604</th>\n",
       "      <td>0.078119</td>\n",
       "      <td>2.247832e-07</td>\n",
       "      <td>0.020832</td>\n",
       "      <td>7.365696e-03</td>\n",
       "      <td>1</td>\n",
       "      <td>200</td>\n",
       "      <td>liblinear</td>\n",
       "      <td>44</td>\n",
       "      <td>{'lr__C': 1, 'lr__max_iter': 200, 'lr__solver'...</td>\n",
       "      <td>0.754984</td>\n",
       "      <td>0.787274</td>\n",
       "      <td>0.765192</td>\n",
       "      <td>0.76915</td>\n",
       "      <td>0.013476</td>\n",
       "      <td>1</td>\n",
       "      <td>0.830867</td>\n",
       "      <td>0.860586</td>\n",
       "      <td>0.831457</td>\n",
       "      <td>0.84097</td>\n",
       "      <td>0.013873</td>\n",
       "    </tr>\n",
       "    <tr>\n",
       "      <th>634</th>\n",
       "      <td>0.072912</td>\n",
       "      <td>7.364066e-03</td>\n",
       "      <td>0.015624</td>\n",
       "      <td>1.030086e-06</td>\n",
       "      <td>1</td>\n",
       "      <td>400</td>\n",
       "      <td>liblinear</td>\n",
       "      <td>44</td>\n",
       "      <td>{'lr__C': 1, 'lr__max_iter': 400, 'lr__solver'...</td>\n",
       "      <td>0.754984</td>\n",
       "      <td>0.787274</td>\n",
       "      <td>0.765192</td>\n",
       "      <td>0.76915</td>\n",
       "      <td>0.013476</td>\n",
       "      <td>1</td>\n",
       "      <td>0.830867</td>\n",
       "      <td>0.860586</td>\n",
       "      <td>0.831457</td>\n",
       "      <td>0.84097</td>\n",
       "      <td>0.013873</td>\n",
       "    </tr>\n",
       "    <tr>\n",
       "      <th>664</th>\n",
       "      <td>0.067703</td>\n",
       "      <td>7.365190e-03</td>\n",
       "      <td>0.031248</td>\n",
       "      <td>2.973602e-07</td>\n",
       "      <td>1</td>\n",
       "      <td>500</td>\n",
       "      <td>liblinear</td>\n",
       "      <td>44</td>\n",
       "      <td>{'lr__C': 1, 'lr__max_iter': 500, 'lr__solver'...</td>\n",
       "      <td>0.754984</td>\n",
       "      <td>0.787274</td>\n",
       "      <td>0.765192</td>\n",
       "      <td>0.76915</td>\n",
       "      <td>0.013476</td>\n",
       "      <td>1</td>\n",
       "      <td>0.830867</td>\n",
       "      <td>0.860586</td>\n",
       "      <td>0.831457</td>\n",
       "      <td>0.84097</td>\n",
       "      <td>0.013873</td>\n",
       "    </tr>\n",
       "    <tr>\n",
       "      <th>694</th>\n",
       "      <td>0.071476</td>\n",
       "      <td>8.893069e-03</td>\n",
       "      <td>0.015624</td>\n",
       "      <td>4.495664e-07</td>\n",
       "      <td>1</td>\n",
       "      <td>600</td>\n",
       "      <td>liblinear</td>\n",
       "      <td>44</td>\n",
       "      <td>{'lr__C': 1, 'lr__max_iter': 600, 'lr__solver'...</td>\n",
       "      <td>0.754984</td>\n",
       "      <td>0.787274</td>\n",
       "      <td>0.765192</td>\n",
       "      <td>0.76915</td>\n",
       "      <td>0.013476</td>\n",
       "      <td>1</td>\n",
       "      <td>0.830867</td>\n",
       "      <td>0.860586</td>\n",
       "      <td>0.831457</td>\n",
       "      <td>0.84097</td>\n",
       "      <td>0.013873</td>\n",
       "    </tr>\n",
       "  </tbody>\n",
       "</table>\n",
       "</div>"
      ],
      "text/plain": [
       "     mean_fit_time  std_fit_time  mean_score_time  std_score_time param_lr__C  \\\n",
       "544       0.103533  6.785093e-03         0.019869    3.872414e-03           1   \n",
       "574       0.138254  1.291114e-02         0.032315    3.299850e-03           1   \n",
       "604       0.078119  2.247832e-07         0.020832    7.365696e-03           1   \n",
       "634       0.072912  7.364066e-03         0.015624    1.030086e-06           1   \n",
       "664       0.067703  7.365190e-03         0.031248    2.973602e-07           1   \n",
       "694       0.071476  8.893069e-03         0.015624    4.495664e-07           1   \n",
       "\n",
       "    param_lr__max_iter param_lr__solver param_pca__n_components  \\\n",
       "544                 50        liblinear                      44   \n",
       "574                100        liblinear                      44   \n",
       "604                200        liblinear                      44   \n",
       "634                400        liblinear                      44   \n",
       "664                500        liblinear                      44   \n",
       "694                600        liblinear                      44   \n",
       "\n",
       "                                                params  split0_test_score  \\\n",
       "544  {'lr__C': 1, 'lr__max_iter': 50, 'lr__solver':...           0.754984   \n",
       "574  {'lr__C': 1, 'lr__max_iter': 100, 'lr__solver'...           0.754984   \n",
       "604  {'lr__C': 1, 'lr__max_iter': 200, 'lr__solver'...           0.754984   \n",
       "634  {'lr__C': 1, 'lr__max_iter': 400, 'lr__solver'...           0.754984   \n",
       "664  {'lr__C': 1, 'lr__max_iter': 500, 'lr__solver'...           0.754984   \n",
       "694  {'lr__C': 1, 'lr__max_iter': 600, 'lr__solver'...           0.754984   \n",
       "\n",
       "     split1_test_score  split2_test_score  mean_test_score  std_test_score  \\\n",
       "544           0.787274           0.765192          0.76915        0.013476   \n",
       "574           0.787274           0.765192          0.76915        0.013476   \n",
       "604           0.787274           0.765192          0.76915        0.013476   \n",
       "634           0.787274           0.765192          0.76915        0.013476   \n",
       "664           0.787274           0.765192          0.76915        0.013476   \n",
       "694           0.787274           0.765192          0.76915        0.013476   \n",
       "\n",
       "     rank_test_score  split0_train_score  split1_train_score  \\\n",
       "544                1            0.830867            0.860586   \n",
       "574                1            0.830867            0.860586   \n",
       "604                1            0.830867            0.860586   \n",
       "634                1            0.830867            0.860586   \n",
       "664                1            0.830867            0.860586   \n",
       "694                1            0.830867            0.860586   \n",
       "\n",
       "     split2_train_score  mean_train_score  std_train_score  \n",
       "544            0.831457           0.84097         0.013873  \n",
       "574            0.831457           0.84097         0.013873  \n",
       "604            0.831457           0.84097         0.013873  \n",
       "634            0.831457           0.84097         0.013873  \n",
       "664            0.831457           0.84097         0.013873  \n",
       "694            0.831457           0.84097         0.013873  "
      ]
     },
     "execution_count": 198,
     "metadata": {},
     "output_type": "execute_result"
    }
   ],
   "source": [
    "# Creating model and hyperparameter tuning using Gridsearchcv\n",
    "pipe_lr = Pipeline(steps=[('trans', cols_trans), # Feature Transformation\n",
    "                             ('pca', PCA()), # Feature Extraction\n",
    "                             ('lr',LogisticRegression(random_state=42,class_weight='balanced'))]) # build the model \n",
    "#setting parameters\n",
    "parameter = {\n",
    "    'pca__n_components' : [40, 41, 42, 43, 44, 45],\n",
    "    'lr__max_iter' : [50, 100, 200, 400, 500, 600],\n",
    "    'lr__solver' :['liblinear', 'newton-cg', 'lbfgs', 'sag', 'saga'],\n",
    "    'lr__C': [0.0001,0.001,0.01,1,10,100,1000]\n",
    "}\n",
    "\n",
    "# Hyperparameter tuning\n",
    "logistic = GridSearchCV(estimator=pipe_lr,param_grid=parameter,scoring='f1_macro',\n",
    "                        cv=StratifiedKFold(n_splits=3),\n",
    "                        n_jobs=-1,return_train_score=True,\n",
    "                        error_score='raise').fit(X_train,y_train) \n",
    "\n",
    "print('Best f1_macro score : ',logistic.best_score_)\n",
    "\n",
    "# Logistic Regression CV results\n",
    "pd.DataFrame(logistic.cv_results_).query('rank_test_score == 1')"
   ]
  },
  {
   "cell_type": "code",
   "execution_count": 140,
   "id": "98cf2f49",
   "metadata": {
    "ExecuteTime": {
     "end_time": "2023-01-17T06:04:13.137776Z",
     "start_time": "2023-01-17T06:04:13.041831Z"
    }
   },
   "outputs": [],
   "source": [
    "# Using best Hyperparameter, build and train the model\n",
    "pipe_lr_hyper = Pipeline(steps=[('trans', cols_trans),\n",
    "                                ('pca', PCA(n_components = 44)), # Feature Extraction\n",
    "                                ('lr',LogisticRegression(class_weight='balanced',\n",
    "                                                         random_state=42,\n",
    "                                                         solver='liblinear',\n",
    "                                                         max_iter=50,C=1))]).fit(X_train,y_train)"
   ]
  },
  {
   "cell_type": "markdown",
   "id": "0c4fd698",
   "metadata": {
    "ExecuteTime": {
     "end_time": "2023-01-14T01:15:47.384410Z",
     "start_time": "2023-01-14T01:15:47.362446Z"
    }
   },
   "source": [
    "###### Hypertuning Support Vector Classifier parameters using GridsearchCV"
   ]
  },
  {
   "cell_type": "markdown",
   "id": "21d6db55",
   "metadata": {
    "ExecuteTime": {
     "end_time": "2023-01-18T00:55:53.222137Z",
     "start_time": "2023-01-18T00:55:52.602722Z"
    }
   },
   "source": [
    "**Model 1**"
   ]
  },
  {
   "cell_type": "code",
   "execution_count": 212,
   "id": "df8a3be4",
   "metadata": {
    "ExecuteTime": {
     "end_time": "2023-01-15T01:45:31.404347Z",
     "start_time": "2023-01-15T01:33:51.125948Z"
    }
   },
   "outputs": [
    {
     "name": "stdout",
     "output_type": "stream",
     "text": [
      "Best f1_macro score :  0.7647828746764377\n"
     ]
    },
    {
     "data": {
      "text/html": [
       "<div>\n",
       "<style scoped>\n",
       "    .dataframe tbody tr th:only-of-type {\n",
       "        vertical-align: middle;\n",
       "    }\n",
       "\n",
       "    .dataframe tbody tr th {\n",
       "        vertical-align: top;\n",
       "    }\n",
       "\n",
       "    .dataframe thead th {\n",
       "        text-align: right;\n",
       "    }\n",
       "</style>\n",
       "<table border=\"1\" class=\"dataframe\">\n",
       "  <thead>\n",
       "    <tr style=\"text-align: right;\">\n",
       "      <th></th>\n",
       "      <th>mean_fit_time</th>\n",
       "      <th>std_fit_time</th>\n",
       "      <th>mean_score_time</th>\n",
       "      <th>std_score_time</th>\n",
       "      <th>param_pca__n_components</th>\n",
       "      <th>param_svc__C</th>\n",
       "      <th>param_svc__gamma</th>\n",
       "      <th>param_svc__kernel</th>\n",
       "      <th>params</th>\n",
       "      <th>split0_test_score</th>\n",
       "      <th>split1_test_score</th>\n",
       "      <th>split2_test_score</th>\n",
       "      <th>mean_test_score</th>\n",
       "      <th>std_test_score</th>\n",
       "      <th>rank_test_score</th>\n",
       "      <th>split0_train_score</th>\n",
       "      <th>split1_train_score</th>\n",
       "      <th>split2_train_score</th>\n",
       "      <th>mean_train_score</th>\n",
       "      <th>std_train_score</th>\n",
       "    </tr>\n",
       "  </thead>\n",
       "  <tbody>\n",
       "    <tr>\n",
       "      <th>194</th>\n",
       "      <td>0.104159</td>\n",
       "      <td>0.007365</td>\n",
       "      <td>0.05208</td>\n",
       "      <td>0.007365</td>\n",
       "      <td>41</td>\n",
       "      <td>1000</td>\n",
       "      <td>0.001</td>\n",
       "      <td>rbf</td>\n",
       "      <td>{'pca__n_components': 41, 'svc__C': 1000, 'svc...</td>\n",
       "      <td>0.765149</td>\n",
       "      <td>0.771802</td>\n",
       "      <td>0.757398</td>\n",
       "      <td>0.764783</td>\n",
       "      <td>0.005886</td>\n",
       "      <td>1</td>\n",
       "      <td>0.877689</td>\n",
       "      <td>0.884237</td>\n",
       "      <td>0.877051</td>\n",
       "      <td>0.879659</td>\n",
       "      <td>0.003248</td>\n",
       "    </tr>\n",
       "  </tbody>\n",
       "</table>\n",
       "</div>"
      ],
      "text/plain": [
       "     mean_fit_time  std_fit_time  mean_score_time  std_score_time  \\\n",
       "194       0.104159      0.007365          0.05208        0.007365   \n",
       "\n",
       "    param_pca__n_components param_svc__C param_svc__gamma param_svc__kernel  \\\n",
       "194                      41         1000            0.001               rbf   \n",
       "\n",
       "                                                params  split0_test_score  \\\n",
       "194  {'pca__n_components': 41, 'svc__C': 1000, 'svc...           0.765149   \n",
       "\n",
       "     split1_test_score  split2_test_score  mean_test_score  std_test_score  \\\n",
       "194           0.771802           0.757398         0.764783        0.005886   \n",
       "\n",
       "     rank_test_score  split0_train_score  split1_train_score  \\\n",
       "194                1            0.877689            0.884237   \n",
       "\n",
       "     split2_train_score  mean_train_score  std_train_score  \n",
       "194            0.877051          0.879659         0.003248  "
      ]
     },
     "execution_count": 212,
     "metadata": {},
     "output_type": "execute_result"
    }
   ],
   "source": [
    "# Creating model and hyperparameter tuning using GridsearchCV\n",
    "pipe_svc = Pipeline(steps=[('trans', cols_trans), # Feature Transformation\n",
    "                             ('pca', PCA()), # Feature Extraction\n",
    "                             ('svc',SVC(random_state=42,class_weight='balanced'))]) # build the model\n",
    "#setting parameters\n",
    "parameter = {\n",
    "                'pca__n_components' : [40, 41, 42, 43, 44, 45],\n",
    "                'svc__C': [0.1, 1, 10, 100, 1000], \n",
    "                'svc__gamma': [1, 0.1, 0.01, 0.001, 0.0001],\n",
    "                'svc__kernel': ['linear', 'poly', 'rbf', 'sigmoid']\n",
    "            }\n",
    "\n",
    "# Hyperparameter tuning\n",
    "svc = GridSearchCV(estimator=pipe_svc,param_grid=parameter,scoring='f1_macro',\n",
    "                   cv=StratifiedKFold(n_splits=3),n_jobs=-1,\n",
    "                   return_train_score=True,error_score='raise').fit(X_train,y_train) \n",
    "\n",
    "print('Best f1_macro score : ',svc.best_score_)\n",
    "\n",
    "# SVM CV results\n",
    "pd.DataFrame(svc.cv_results_).query('rank_test_score == 1')"
   ]
  },
  {
   "cell_type": "code",
   "execution_count": 141,
   "id": "1d38f71a",
   "metadata": {
    "ExecuteTime": {
     "end_time": "2023-01-17T06:04:20.957728Z",
     "start_time": "2023-01-17T06:04:20.801858Z"
    }
   },
   "outputs": [],
   "source": [
    "# Using best Hyperparameter\n",
    "pipe_svc_hyper1 = Pipeline(steps=[('trans', cols_trans), # Feature Transformation\n",
    "                                 ('pca', PCA(n_components = 41)), # Feature Extraction\n",
    "                                 ('svc',SVC(random_state=42,kernel = 'rbf',class_weight='balanced',\n",
    "                                            gamma = 0.001, C = 1000))]).fit(X_train,y_train) # train the model"
   ]
  },
  {
   "cell_type": "markdown",
   "id": "0eb4f801",
   "metadata": {},
   "source": [
    "**Noticed that we get better result without using class_weight parameter and increasing n_components by 1**"
   ]
  },
  {
   "cell_type": "markdown",
   "id": "215ce360",
   "metadata": {},
   "source": [
    "**Model 2**"
   ]
  },
  {
   "cell_type": "code",
   "execution_count": 142,
   "id": "22eba79f",
   "metadata": {
    "ExecuteTime": {
     "end_time": "2023-01-17T06:04:28.690391Z",
     "start_time": "2023-01-17T06:04:28.521751Z"
    }
   },
   "outputs": [],
   "source": [
    "# Using best Hyperparameter (without using class_weight parameter and increasing n_components by 1)\n",
    "\n",
    "pipe_svc_hyper2 = Pipeline(steps=[('trans', cols_trans), # Feature Transformation\n",
    "                                 ('pca', PCA(n_components = 42)), # Feature Extraction\n",
    "                                 ('svc',SVC(random_state=42,kernel = 'rbf',\n",
    "                                            gamma = 0.001, C = 1000))]).fit(X_train,y_train) # train the model"
   ]
  },
  {
   "cell_type": "code",
   "execution_count": 143,
   "id": "83c74c8d",
   "metadata": {
    "ExecuteTime": {
     "end_time": "2023-01-17T06:04:35.701703Z",
     "start_time": "2023-01-17T06:04:35.259168Z"
    }
   },
   "outputs": [
    {
     "name": "stdout",
     "output_type": "stream",
     "text": [
      "f1_macro score :  0.7901798833901462\n",
      "standard deviation score :  0.014769139651799648\n"
     ]
    }
   ],
   "source": [
    "# Using Stratified KFold cross validation technique for new parameters\n",
    "scores=cross_val_score(pipe_svc_hyper2,X_train,y_train,cv=StratifiedKFold(n_splits=3),scoring='f1_macro')\n",
    "print('f1_macro score : ',np.mean(scores))\n",
    "print('standard deviation score : ',scores.std())"
   ]
  },
  {
   "cell_type": "code",
   "execution_count": 144,
   "id": "63f25383",
   "metadata": {
    "ExecuteTime": {
     "end_time": "2023-01-17T06:04:37.043160Z",
     "start_time": "2023-01-17T06:04:37.031142Z"
    }
   },
   "outputs": [
    {
     "data": {
      "text/plain": [
       "array([0.775     , 0.81019438, 0.78534527])"
      ]
     },
     "execution_count": 144,
     "metadata": {},
     "output_type": "execute_result"
    }
   ],
   "source": [
    "scores"
   ]
  },
  {
   "cell_type": "markdown",
   "id": "dd8abdf7",
   "metadata": {},
   "source": [
    "SVC Model without using class_weight parameter performing better "
   ]
  },
  {
   "cell_type": "markdown",
   "id": "f1601956",
   "metadata": {},
   "source": [
    "###### Hypertuning Decision Tree Classifier parameters using RandomizedSearchCV"
   ]
  },
  {
   "cell_type": "code",
   "execution_count": 202,
   "id": "12e02daf",
   "metadata": {
    "ExecuteTime": {
     "end_time": "2023-01-14T23:53:57.566400Z",
     "start_time": "2023-01-14T23:53:47.629932Z"
    }
   },
   "outputs": [
    {
     "name": "stdout",
     "output_type": "stream",
     "text": [
      "Best f1_macro score :  0.6590822557679176\n"
     ]
    },
    {
     "data": {
      "text/html": [
       "<div>\n",
       "<style scoped>\n",
       "    .dataframe tbody tr th:only-of-type {\n",
       "        vertical-align: middle;\n",
       "    }\n",
       "\n",
       "    .dataframe tbody tr th {\n",
       "        vertical-align: top;\n",
       "    }\n",
       "\n",
       "    .dataframe thead th {\n",
       "        text-align: right;\n",
       "    }\n",
       "</style>\n",
       "<table border=\"1\" class=\"dataframe\">\n",
       "  <thead>\n",
       "    <tr style=\"text-align: right;\">\n",
       "      <th></th>\n",
       "      <th>mean_fit_time</th>\n",
       "      <th>std_fit_time</th>\n",
       "      <th>mean_score_time</th>\n",
       "      <th>std_score_time</th>\n",
       "      <th>param_pca__n_components</th>\n",
       "      <th>param_decision__min_samples_split</th>\n",
       "      <th>param_decision__min_samples_leaf</th>\n",
       "      <th>param_decision__max_depth</th>\n",
       "      <th>params</th>\n",
       "      <th>split0_test_score</th>\n",
       "      <th>split1_test_score</th>\n",
       "      <th>split2_test_score</th>\n",
       "      <th>mean_test_score</th>\n",
       "      <th>std_test_score</th>\n",
       "      <th>rank_test_score</th>\n",
       "      <th>split0_train_score</th>\n",
       "      <th>split1_train_score</th>\n",
       "      <th>split2_train_score</th>\n",
       "      <th>mean_train_score</th>\n",
       "      <th>std_train_score</th>\n",
       "    </tr>\n",
       "  </thead>\n",
       "  <tbody>\n",
       "    <tr>\n",
       "      <th>92</th>\n",
       "      <td>0.094789</td>\n",
       "      <td>0.001479</td>\n",
       "      <td>0.020833</td>\n",
       "      <td>0.007365</td>\n",
       "      <td>40</td>\n",
       "      <td>8</td>\n",
       "      <td>5</td>\n",
       "      <td>20</td>\n",
       "      <td>{'pca__n_components': 40, 'decision__min_sampl...</td>\n",
       "      <td>0.683227</td>\n",
       "      <td>0.661151</td>\n",
       "      <td>0.632868</td>\n",
       "      <td>0.659082</td>\n",
       "      <td>0.020611</td>\n",
       "      <td>1</td>\n",
       "      <td>0.846803</td>\n",
       "      <td>0.852289</td>\n",
       "      <td>0.855563</td>\n",
       "      <td>0.851552</td>\n",
       "      <td>0.003614</td>\n",
       "    </tr>\n",
       "  </tbody>\n",
       "</table>\n",
       "</div>"
      ],
      "text/plain": [
       "    mean_fit_time  std_fit_time  mean_score_time  std_score_time  \\\n",
       "92       0.094789      0.001479         0.020833        0.007365   \n",
       "\n",
       "   param_pca__n_components param_decision__min_samples_split  \\\n",
       "92                      40                                 8   \n",
       "\n",
       "   param_decision__min_samples_leaf param_decision__max_depth  \\\n",
       "92                                5                        20   \n",
       "\n",
       "                                               params  split0_test_score  \\\n",
       "92  {'pca__n_components': 40, 'decision__min_sampl...           0.683227   \n",
       "\n",
       "    split1_test_score  split2_test_score  mean_test_score  std_test_score  \\\n",
       "92           0.661151           0.632868         0.659082        0.020611   \n",
       "\n",
       "    rank_test_score  split0_train_score  split1_train_score  \\\n",
       "92                1            0.846803            0.852289   \n",
       "\n",
       "    split2_train_score  mean_train_score  std_train_score  \n",
       "92            0.855563          0.851552         0.003614  "
      ]
     },
     "execution_count": 202,
     "metadata": {},
     "output_type": "execute_result"
    }
   ],
   "source": [
    "# Creating model and hyperparameter tuning using RandomizedSearchCV\n",
    "pipe_decision = Pipeline(steps=[('trans', cols_trans), # Feature Transformation\n",
    "                             ('pca', PCA()), # Feature Extraction\n",
    "                             ('decision',DecisionTreeClassifier(random_state=42,class_weight='balanced'))]) # build the model\n",
    "\n",
    "#setting parameters\n",
    "parameter = {\n",
    "                'pca__n_components' : [40, 41, 42, 43, 44, 45],\n",
    "                'decision__max_depth' : [int(x) for x in np.linspace(1,20,num=5)],\n",
    "                'decision__min_samples_split' : [int(x) for x in np.linspace(8,60,5)],\n",
    "                'decision__min_samples_leaf' : [int(x) for x in np.linspace(1,20,num=5)]\n",
    "            }\n",
    "\n",
    "# Hypertuning\n",
    "decision = RandomizedSearchCV(estimator=pipe_decision,param_distributions=parameter,\n",
    "                   scoring='f1_macro',cv=StratifiedKFold(n_splits=3),n_jobs=-1,return_train_score=True,\n",
    "                   error_score='raise',n_iter=100,random_state=42).fit(X_train,y_train)\n",
    "\n",
    "print('Best f1_macro score : ',decision.best_score_)\n",
    "\n",
    "# Decision Tree Classifier CV results\n",
    "pd.DataFrame(decision.cv_results_).query('rank_test_score == 1')"
   ]
  },
  {
   "cell_type": "code",
   "execution_count": 145,
   "id": "207b6ded",
   "metadata": {
    "ExecuteTime": {
     "end_time": "2023-01-17T06:04:43.857764Z",
     "start_time": "2023-01-17T06:04:43.734129Z"
    }
   },
   "outputs": [],
   "source": [
    "# Using best Hyperparameter and checking performance of the model\n",
    "pipe_decision_hyper = Pipeline(steps=[('trans', cols_trans), # Feature Transformation\n",
    "                                 ('pca', PCA(n_components=40)), # Feature Extraction\n",
    "                                 ('decision',DecisionTreeClassifier(random_state=42,\n",
    "                                                                    min_samples_split=8,\n",
    "                                                                    min_samples_leaf=5,\n",
    "                                                                    max_depth=20))]).fit(X_train,y_train) # train the model"
   ]
  },
  {
   "cell_type": "markdown",
   "id": "6939c67b",
   "metadata": {},
   "source": [
    "###### Hypertuning Random Forest Classifier parameters using RandomizedSearchCV"
   ]
  },
  {
   "cell_type": "code",
   "execution_count": 203,
   "id": "ca83482b",
   "metadata": {
    "ExecuteTime": {
     "end_time": "2023-01-14T23:58:29.137941Z",
     "start_time": "2023-01-14T23:53:57.570401Z"
    }
   },
   "outputs": [
    {
     "name": "stdout",
     "output_type": "stream",
     "text": [
      "Best f1_macro score :  0.7787400093348998\n"
     ]
    },
    {
     "data": {
      "text/html": [
       "<div>\n",
       "<style scoped>\n",
       "    .dataframe tbody tr th:only-of-type {\n",
       "        vertical-align: middle;\n",
       "    }\n",
       "\n",
       "    .dataframe tbody tr th {\n",
       "        vertical-align: top;\n",
       "    }\n",
       "\n",
       "    .dataframe thead th {\n",
       "        text-align: right;\n",
       "    }\n",
       "</style>\n",
       "<table border=\"1\" class=\"dataframe\">\n",
       "  <thead>\n",
       "    <tr style=\"text-align: right;\">\n",
       "      <th></th>\n",
       "      <th>mean_fit_time</th>\n",
       "      <th>std_fit_time</th>\n",
       "      <th>mean_score_time</th>\n",
       "      <th>std_score_time</th>\n",
       "      <th>param_rf__n_estimators</th>\n",
       "      <th>param_rf__min_samples_split</th>\n",
       "      <th>param_rf__min_samples_leaf</th>\n",
       "      <th>param_rf__max_depth</th>\n",
       "      <th>param_pca__n_components</th>\n",
       "      <th>params</th>\n",
       "      <th>split0_test_score</th>\n",
       "      <th>split1_test_score</th>\n",
       "      <th>split2_test_score</th>\n",
       "      <th>mean_test_score</th>\n",
       "      <th>std_test_score</th>\n",
       "      <th>rank_test_score</th>\n",
       "      <th>split0_train_score</th>\n",
       "      <th>split1_train_score</th>\n",
       "      <th>split2_train_score</th>\n",
       "      <th>mean_train_score</th>\n",
       "      <th>std_train_score</th>\n",
       "    </tr>\n",
       "  </thead>\n",
       "  <tbody>\n",
       "    <tr>\n",
       "      <th>74</th>\n",
       "      <td>3.03113</td>\n",
       "      <td>0.020921</td>\n",
       "      <td>0.124991</td>\n",
       "      <td>3.371748e-07</td>\n",
       "      <td>400</td>\n",
       "      <td>8</td>\n",
       "      <td>5</td>\n",
       "      <td>5</td>\n",
       "      <td>44</td>\n",
       "      <td>{'rf__n_estimators': 400, 'rf__min_samples_spl...</td>\n",
       "      <td>0.791203</td>\n",
       "      <td>0.798432</td>\n",
       "      <td>0.746586</td>\n",
       "      <td>0.77874</td>\n",
       "      <td>0.022927</td>\n",
       "      <td>1</td>\n",
       "      <td>0.909303</td>\n",
       "      <td>0.938938</td>\n",
       "      <td>0.933614</td>\n",
       "      <td>0.927285</td>\n",
       "      <td>0.0129</td>\n",
       "    </tr>\n",
       "  </tbody>\n",
       "</table>\n",
       "</div>"
      ],
      "text/plain": [
       "    mean_fit_time  std_fit_time  mean_score_time  std_score_time  \\\n",
       "74        3.03113      0.020921         0.124991    3.371748e-07   \n",
       "\n",
       "   param_rf__n_estimators param_rf__min_samples_split  \\\n",
       "74                    400                           8   \n",
       "\n",
       "   param_rf__min_samples_leaf param_rf__max_depth param_pca__n_components  \\\n",
       "74                          5                   5                      44   \n",
       "\n",
       "                                               params  split0_test_score  \\\n",
       "74  {'rf__n_estimators': 400, 'rf__min_samples_spl...           0.791203   \n",
       "\n",
       "    split1_test_score  split2_test_score  mean_test_score  std_test_score  \\\n",
       "74           0.798432           0.746586          0.77874        0.022927   \n",
       "\n",
       "    rank_test_score  split0_train_score  split1_train_score  \\\n",
       "74                1            0.909303            0.938938   \n",
       "\n",
       "    split2_train_score  mean_train_score  std_train_score  \n",
       "74            0.933614          0.927285           0.0129  "
      ]
     },
     "execution_count": 203,
     "metadata": {},
     "output_type": "execute_result"
    }
   ],
   "source": [
    "# Creating model and hyperparameter tuning using RandomizedSearchCV\n",
    "pipe_random_forest = Pipeline(steps=[('trans', cols_trans), # Feature Transformation\n",
    "                             ('pca', PCA()), # Feature Extraction\n",
    "                             ('rf',RandomForestClassifier(random_state=42,class_weight='balanced'))]) # build the model\n",
    "\n",
    "#setting parameters\n",
    "parameter = {\n",
    "                'pca__n_components' : [40, 41, 42, 43, 44, 45],\n",
    "                'rf__n_estimators' : [50, 100, 200, 400, 500, 600, 800, 1000],\n",
    "                'rf__max_depth' : [int(x) for x in np.linspace(1,20,num=10)],\n",
    "                'rf__min_samples_split' : [int(x) for x in np.linspace(8,60,10)],\n",
    "                'rf__min_samples_leaf' : [int(x) for x in np.linspace(1,20,num=10)]\n",
    "            }\n",
    "\n",
    "# Hypertuning\n",
    "rf = RandomizedSearchCV(estimator=pipe_random_forest,param_distributions=parameter,\n",
    "                   scoring='f1_macro',cv=StratifiedKFold(n_splits=3),n_jobs=-1,return_train_score=True,\n",
    "                   error_score='raise',n_iter=100,random_state=42).fit(X_train,y_train)\n",
    "\n",
    "print('Best f1_macro score : ',rf.best_score_)\n",
    "\n",
    "# Random Forest Classifier CV results\n",
    "pd.DataFrame(rf.cv_results_).query('rank_test_score == 1')"
   ]
  },
  {
   "cell_type": "code",
   "execution_count": 146,
   "id": "213e54bd",
   "metadata": {
    "ExecuteTime": {
     "end_time": "2023-01-17T06:04:52.424686Z",
     "start_time": "2023-01-17T06:04:49.825307Z"
    }
   },
   "outputs": [],
   "source": [
    "# Using best Hyperparameter and checking performance of the model\n",
    "pipe_rf_hyper = Pipeline(steps=[('trans', cols_trans), # Feature Transformation\n",
    "                                 ('pca', PCA(n_components=44)), # Feature Extraction\n",
    "                                 ('rf',RandomForestClassifier(random_state=42,\n",
    "                                                                    class_weight='balanced',\n",
    "                                                                    n_estimators = 400, \n",
    "                                                                    min_samples_split = 8,\n",
    "                                                                    min_samples_leaf = 5,\n",
    "                                                                    max_depth = 5))]).fit(X_train,y_train) # train the model"
   ]
  },
  {
   "cell_type": "markdown",
   "id": "33551405",
   "metadata": {},
   "source": [
    "###### Hypertuning AdaBoost Classifier parameters using RandomizedSearchCV"
   ]
  },
  {
   "cell_type": "code",
   "execution_count": 204,
   "id": "9c3529d2",
   "metadata": {
    "ExecuteTime": {
     "end_time": "2023-01-15T00:08:17.118988Z",
     "start_time": "2023-01-14T23:58:29.143939Z"
    }
   },
   "outputs": [
    {
     "name": "stdout",
     "output_type": "stream",
     "text": [
      "Best f1_macro score :  0.6547474117101233\n"
     ]
    },
    {
     "data": {
      "text/html": [
       "<div>\n",
       "<style scoped>\n",
       "    .dataframe tbody tr th:only-of-type {\n",
       "        vertical-align: middle;\n",
       "    }\n",
       "\n",
       "    .dataframe tbody tr th {\n",
       "        vertical-align: top;\n",
       "    }\n",
       "\n",
       "    .dataframe thead th {\n",
       "        text-align: right;\n",
       "    }\n",
       "</style>\n",
       "<table border=\"1\" class=\"dataframe\">\n",
       "  <thead>\n",
       "    <tr style=\"text-align: right;\">\n",
       "      <th></th>\n",
       "      <th>mean_fit_time</th>\n",
       "      <th>std_fit_time</th>\n",
       "      <th>mean_score_time</th>\n",
       "      <th>std_score_time</th>\n",
       "      <th>param_pca__n_components</th>\n",
       "      <th>param_adaboost__n_estimators</th>\n",
       "      <th>param_adaboost__learning_rate</th>\n",
       "      <th>params</th>\n",
       "      <th>split0_test_score</th>\n",
       "      <th>split1_test_score</th>\n",
       "      <th>split2_test_score</th>\n",
       "      <th>mean_test_score</th>\n",
       "      <th>std_test_score</th>\n",
       "      <th>rank_test_score</th>\n",
       "      <th>split0_train_score</th>\n",
       "      <th>split1_train_score</th>\n",
       "      <th>split2_train_score</th>\n",
       "      <th>mean_train_score</th>\n",
       "      <th>std_train_score</th>\n",
       "    </tr>\n",
       "  </thead>\n",
       "  <tbody>\n",
       "    <tr>\n",
       "      <th>56</th>\n",
       "      <td>11.015158</td>\n",
       "      <td>0.046201</td>\n",
       "      <td>0.380182</td>\n",
       "      <td>0.007365</td>\n",
       "      <td>41</td>\n",
       "      <td>800</td>\n",
       "      <td>0.1</td>\n",
       "      <td>{'pca__n_components': 41, 'adaboost__n_estimat...</td>\n",
       "      <td>0.699549</td>\n",
       "      <td>0.670034</td>\n",
       "      <td>0.59466</td>\n",
       "      <td>0.654747</td>\n",
       "      <td>0.044164</td>\n",
       "      <td>1</td>\n",
       "      <td>0.798067</td>\n",
       "      <td>0.807395</td>\n",
       "      <td>0.793688</td>\n",
       "      <td>0.799717</td>\n",
       "      <td>0.005716</td>\n",
       "    </tr>\n",
       "  </tbody>\n",
       "</table>\n",
       "</div>"
      ],
      "text/plain": [
       "    mean_fit_time  std_fit_time  mean_score_time  std_score_time  \\\n",
       "56      11.015158      0.046201         0.380182        0.007365   \n",
       "\n",
       "   param_pca__n_components param_adaboost__n_estimators  \\\n",
       "56                      41                          800   \n",
       "\n",
       "   param_adaboost__learning_rate  \\\n",
       "56                           0.1   \n",
       "\n",
       "                                               params  split0_test_score  \\\n",
       "56  {'pca__n_components': 41, 'adaboost__n_estimat...           0.699549   \n",
       "\n",
       "    split1_test_score  split2_test_score  mean_test_score  std_test_score  \\\n",
       "56           0.670034            0.59466         0.654747        0.044164   \n",
       "\n",
       "    rank_test_score  split0_train_score  split1_train_score  \\\n",
       "56                1            0.798067            0.807395   \n",
       "\n",
       "    split2_train_score  mean_train_score  std_train_score  \n",
       "56            0.793688          0.799717         0.005716  "
      ]
     },
     "execution_count": 204,
     "metadata": {},
     "output_type": "execute_result"
    }
   ],
   "source": [
    "# Creating model and hyperparameter tuning using RandomizedSearchCV\n",
    "pipe_adaboost = Pipeline(steps=[('trans', cols_trans), # Feature Transformation\n",
    "                             ('pca', PCA()), # Feature Extraction\n",
    "                             ('adaboost',AdaBoostClassifier(random_state=42))]) # build the model\n",
    "\n",
    "#setting parameters\n",
    "parameter = {\n",
    "    'pca__n_components' : [40, 41, 42, 43, 44, 45],\n",
    "    'adaboost__n_estimators': [50, 100, 200, 400, 500, 600, 800, 1000],\n",
    "    'adaboost__learning_rate' : [0.01 , 0.012, 0.014, 0.016, 0.019,0.1] \n",
    "}\n",
    "\n",
    "# Hypertuning\n",
    "adaboost = RandomizedSearchCV(estimator=pipe_adaboost,param_distributions=parameter,\n",
    "                   scoring='f1_macro',cv=StratifiedKFold(n_splits=3),n_jobs=-1,return_train_score=True,\n",
    "                   error_score='raise',n_iter=100,random_state=42).fit(X_train,y_train)\n",
    "\n",
    "print('Best f1_macro score : ',adaboost.best_score_)\n",
    "\n",
    "# Adaboost Classifier CV results\n",
    "pd.DataFrame(adaboost.cv_results_).query('rank_test_score == 1')"
   ]
  },
  {
   "cell_type": "code",
   "execution_count": 147,
   "id": "8dc53728",
   "metadata": {
    "ExecuteTime": {
     "end_time": "2023-01-17T06:05:05.808043Z",
     "start_time": "2023-01-17T06:04:55.821761Z"
    }
   },
   "outputs": [],
   "source": [
    "# Using best Hyperparameter and checking performance of the model\n",
    "pipe_adaboost_hyper = Pipeline(steps=[('trans', cols_trans), # Feature Transformation\n",
    "                                 ('pca', PCA(n_components=41)), # Feature Extraction\n",
    "                                 ('adaboost',AdaBoostClassifier(random_state=42,\n",
    "                                                                n_estimators= 800,\n",
    "                                                                learning_rate = 0.1))]).fit(X_train,y_train) # train the model"
   ]
  },
  {
   "cell_type": "markdown",
   "id": "d57f22d0",
   "metadata": {},
   "source": [
    "###### Hypertuning Gradient Boosting Classifier parameters using RandomizedSearchCV"
   ]
  },
  {
   "cell_type": "code",
   "execution_count": 205,
   "id": "0cb8c161",
   "metadata": {
    "ExecuteTime": {
     "end_time": "2023-01-15T01:03:49.879154Z",
     "start_time": "2023-01-15T00:08:17.118988Z"
    }
   },
   "outputs": [
    {
     "name": "stdout",
     "output_type": "stream",
     "text": [
      "Best f1_macro score :  0.7472324989164467\n"
     ]
    },
    {
     "data": {
      "text/html": [
       "<div>\n",
       "<style scoped>\n",
       "    .dataframe tbody tr th:only-of-type {\n",
       "        vertical-align: middle;\n",
       "    }\n",
       "\n",
       "    .dataframe tbody tr th {\n",
       "        vertical-align: top;\n",
       "    }\n",
       "\n",
       "    .dataframe thead th {\n",
       "        text-align: right;\n",
       "    }\n",
       "</style>\n",
       "<table border=\"1\" class=\"dataframe\">\n",
       "  <thead>\n",
       "    <tr style=\"text-align: right;\">\n",
       "      <th></th>\n",
       "      <th>mean_fit_time</th>\n",
       "      <th>std_fit_time</th>\n",
       "      <th>mean_score_time</th>\n",
       "      <th>std_score_time</th>\n",
       "      <th>param_pca__n_components</th>\n",
       "      <th>param_gradient__n_estimators</th>\n",
       "      <th>param_gradient__learning_rate</th>\n",
       "      <th>params</th>\n",
       "      <th>split0_test_score</th>\n",
       "      <th>split1_test_score</th>\n",
       "      <th>split2_test_score</th>\n",
       "      <th>mean_test_score</th>\n",
       "      <th>std_test_score</th>\n",
       "      <th>rank_test_score</th>\n",
       "      <th>split0_train_score</th>\n",
       "      <th>split1_train_score</th>\n",
       "      <th>split2_train_score</th>\n",
       "      <th>mean_train_score</th>\n",
       "      <th>std_train_score</th>\n",
       "    </tr>\n",
       "  </thead>\n",
       "  <tbody>\n",
       "    <tr>\n",
       "      <th>98</th>\n",
       "      <td>60.146031</td>\n",
       "      <td>2.158212</td>\n",
       "      <td>0.048638</td>\n",
       "      <td>0.012277</td>\n",
       "      <td>41</td>\n",
       "      <td>600</td>\n",
       "      <td>0.016</td>\n",
       "      <td>{'pca__n_components': 41, 'gradient__n_estimat...</td>\n",
       "      <td>0.745203</td>\n",
       "      <td>0.753881</td>\n",
       "      <td>0.742614</td>\n",
       "      <td>0.747232</td>\n",
       "      <td>0.004818</td>\n",
       "      <td>1</td>\n",
       "      <td>1.0</td>\n",
       "      <td>1.0</td>\n",
       "      <td>1.0</td>\n",
       "      <td>1.0</td>\n",
       "      <td>0.0</td>\n",
       "    </tr>\n",
       "  </tbody>\n",
       "</table>\n",
       "</div>"
      ],
      "text/plain": [
       "    mean_fit_time  std_fit_time  mean_score_time  std_score_time  \\\n",
       "98      60.146031      2.158212         0.048638        0.012277   \n",
       "\n",
       "   param_pca__n_components param_gradient__n_estimators  \\\n",
       "98                      41                          600   \n",
       "\n",
       "   param_gradient__learning_rate  \\\n",
       "98                         0.016   \n",
       "\n",
       "                                               params  split0_test_score  \\\n",
       "98  {'pca__n_components': 41, 'gradient__n_estimat...           0.745203   \n",
       "\n",
       "    split1_test_score  split2_test_score  mean_test_score  std_test_score  \\\n",
       "98           0.753881           0.742614         0.747232        0.004818   \n",
       "\n",
       "    rank_test_score  split0_train_score  split1_train_score  \\\n",
       "98                1                 1.0                 1.0   \n",
       "\n",
       "    split2_train_score  mean_train_score  std_train_score  \n",
       "98                 1.0               1.0              0.0  "
      ]
     },
     "execution_count": 205,
     "metadata": {},
     "output_type": "execute_result"
    }
   ],
   "source": [
    "# Creating model and hyperparameter tuning using RandomizedSearchCV\n",
    "pipe_gradient = Pipeline(steps=[('trans', cols_trans), # Feature Transformation\n",
    "                             ('pca', PCA()), # Feature Extraction\n",
    "                             ('gradient',GradientBoostingClassifier(random_state=42))]) # build the model\n",
    "\n",
    "#setting parameters\n",
    "parameter = {\n",
    "                'pca__n_components' : [40, 41, 42, 43, 44, 45],\n",
    "                'gradient__n_estimators': [50, 100, 200, 400, 500, 600, 800, 1000],\n",
    "                'gradient__learning_rate' : [0.01 , 0.012, 0.014, 0.016,0.019,0.1] \n",
    "}\n",
    "\n",
    "# Hypertuning\n",
    "gradient = RandomizedSearchCV(estimator=pipe_gradient,param_distributions=parameter,\n",
    "                   scoring='f1_macro',cv=StratifiedKFold(n_splits=3),n_jobs=-1,return_train_score=True,\n",
    "                   error_score='raise',n_iter=100,random_state=42).fit(X_train,y_train)\n",
    "\n",
    "print('Best f1_macro score : ',gradient.best_score_)\n",
    "\n",
    "# Gradient Boosting Classifier CV results\n",
    "pd.DataFrame(gradient.cv_results_).query('rank_test_score == 1')"
   ]
  },
  {
   "cell_type": "code",
   "execution_count": 148,
   "id": "5f77d273",
   "metadata": {
    "ExecuteTime": {
     "end_time": "2023-01-17T06:05:55.103007Z",
     "start_time": "2023-01-17T06:05:05.808043Z"
    }
   },
   "outputs": [],
   "source": [
    "# Using best Hyperparameter and checking performance of the model\n",
    "pipe_gradient_hyper = Pipeline(steps=[('trans', cols_trans), # Feature Transformation\n",
    "                                 ('pca', PCA(n_components=41)), # Feature Extraction\n",
    "                                 ('gradient',GradientBoostingClassifier(random_state=42,\n",
    "                                                                        n_estimators = 600,\n",
    "                                                                        learning_rate = 0.016))]).fit(X_train,y_train) # train the model"
   ]
  },
  {
   "cell_type": "markdown",
   "id": "af042112",
   "metadata": {},
   "source": [
    "###### Model creation using Stacking Classifier (LogisticRegression + SVC + RandomForestClassifier)"
   ]
  },
  {
   "cell_type": "code",
   "execution_count": 149,
   "id": "518c2236",
   "metadata": {
    "ExecuteTime": {
     "end_time": "2023-01-17T06:06:17.858677Z",
     "start_time": "2023-01-17T06:05:55.108002Z"
    }
   },
   "outputs": [],
   "source": [
    "# Selecting top 3 performing models based on Hypertuning results(f1_macro score) \n",
    "\n",
    "# using best parameters with respect to each models used\n",
    "estimator_list = [\n",
    "    ('logistic', LogisticRegression(class_weight='balanced',random_state=42,solver='liblinear',max_iter=50,C=1)),\n",
    "    ('svc', SVC(random_state=42,kernel = 'rbf',gamma = 0.001, C = 1000)),\n",
    "    ('random_forest',RandomForestClassifier(random_state=42,class_weight='balanced',\n",
    "                                            n_estimators = 400,min_samples_split = 8,\n",
    "                                            min_samples_leaf = 5,max_depth = 5))]\n",
    "\n",
    "# Build stack model\n",
    "pipe_stack = Pipeline(steps=[('trans', cols_trans),('pca', PCA(n_components=42)),\n",
    "                                 ('stack',StackingClassifier(estimators=estimator_list,\n",
    "                                                             final_estimator=SVC(random_state=42,\n",
    "                                                                                 kernel = 'rbf',\n",
    "                                                                                 gamma = 0.001, \n",
    "                                                                                 C = 1000),\n",
    "                                                             stack_method  = 'predict',\n",
    "                                                             cv=StratifiedKFold(n_splits=3),\n",
    "                                                             n_jobs = -1))]).fit(X_train, y_train) # train the model"
   ]
  },
  {
   "cell_type": "markdown",
   "id": "9574c6db",
   "metadata": {},
   "source": [
    "LogisticRegression, SVC and RandomForestClassifier models were stacked using Stacking Classifier model and best performing SVC model 2 was used as meta learner for the model to improve the performance of the model."
   ]
  },
  {
   "cell_type": "code",
   "execution_count": 150,
   "id": "5897fe6f",
   "metadata": {
    "ExecuteTime": {
     "end_time": "2023-01-17T06:06:38.278226Z",
     "start_time": "2023-01-17T06:06:17.860673Z"
    }
   },
   "outputs": [
    {
     "name": "stdout",
     "output_type": "stream",
     "text": [
      "f1_macro score :  0.8188111794108272\n",
      "standard deviation score :  0.028255844759619172\n"
     ]
    }
   ],
   "source": [
    "# Using Stratified KFold cross validation technique for Stacking Classifier\n",
    "scores=cross_val_score(pipe_stack,X_train,y_train,cv=StratifiedKFold(n_splits=3),scoring='f1_macro')\n",
    "print('f1_macro score : ',np.mean(scores))\n",
    "print('standard deviation score : ',scores.std())"
   ]
  },
  {
   "cell_type": "code",
   "execution_count": 151,
   "id": "2b5c4d30",
   "metadata": {
    "ExecuteTime": {
     "end_time": "2023-01-17T06:06:38.294217Z",
     "start_time": "2023-01-17T06:06:38.284224Z"
    }
   },
   "outputs": [
    {
     "data": {
      "text/plain": [
       "array([0.8239253 , 0.85057574, 0.7819325 ])"
      ]
     },
     "execution_count": 151,
     "metadata": {},
     "output_type": "execute_result"
    }
   ],
   "source": [
    "scores"
   ]
  },
  {
   "cell_type": "markdown",
   "id": "a8901171",
   "metadata": {
    "ExecuteTime": {
     "end_time": "2023-01-15T03:10:58.428571Z",
     "start_time": "2023-01-15T03:10:58.416560Z"
    }
   },
   "source": [
    "#### Exporting Trained Models"
   ]
  },
  {
   "cell_type": "code",
   "execution_count": 61,
   "id": "3706fa89",
   "metadata": {
    "ExecuteTime": {
     "end_time": "2023-01-16T09:40:33.929435Z",
     "start_time": "2023-01-16T09:40:33.678077Z"
    }
   },
   "outputs": [],
   "source": [
    "# Save all the trained models using pickle\n",
    "trained_model_list = [pipe_lr_hyper,\n",
    "                      pipe_svc_hyper1,\n",
    "                      pipe_svc_hyper2,\n",
    "                      pipe_knn_hyper,\n",
    "                      pipe_decision_hyper,\n",
    "                      pipe_rf_hyper,\n",
    "                      pipe_adaboost_hyper,\n",
    "                      pipe_gradient_hyper,\n",
    "                      pipe_stack]\n",
    "\n",
    "model = ['Logistic_Regression',\n",
    "         'Support Vector Classifier_1',\n",
    "         'Support_Vector_Classifier_2',\n",
    "         'KNeighbors_Classifier',\n",
    "         'Decision_Tree_Classifier',\n",
    "         'Random_Forest_Classifier',\n",
    "         'AdaBoost_Classifier',\n",
    "         'Gradient_Boosting_Classifier',\n",
    "         'Stacking_Classifier']\n",
    "\n",
    "export_file_location = 'C:/Users/User/Desktop/E10901-PR2-V18_Certified Data Scientist - Project/data/processed/'\n",
    "\n",
    "# Export trained models using pickle in processed directory\n",
    "for i,j in zip(trained_model_list,model):\n",
    "    pickle.dump(i, open(export_file_location + j +'_trained_model.pkl', 'wb'))"
   ]
  },
  {
   "cell_type": "markdown",
   "id": "7de9f2e4",
   "metadata": {
    "ExecuteTime": {
     "end_time": "2023-01-16T09:29:56.220097Z",
     "start_time": "2023-01-16T09:29:56.204127Z"
    }
   },
   "source": [
    "### Summary"
   ]
  },
  {
   "cell_type": "markdown",
   "id": "31cd7094",
   "metadata": {},
   "source": [
    "**Importing necessary libraries**\n",
    "* pandas\n",
    "* numpy\n",
    "* Visualizations using matplotlib\n",
    "* Pipeline from imblearn is used to create a pipeline to preprocess the data and build the model\n",
    "* ColumnTransformer to create a transformer from sklearn to be passed in model creation pipeline.\n",
    "* FunctionTransformer,OneHotEncoder,StandardScaler from sklearn to perform Feature transformations.\n",
    "* Oversampling Technique SMOTE from imblearn is used as we have imbalanced dataset\n",
    "* PCA from sklearn is used to reduce the dimensionality of the transformed dataset\n",
    "* LogisticRegression from sklearn.linear_model for model creation\n",
    "* SVC from sklearn.svm for model creation\n",
    "* DecisionTreeClassifier from sklearn.tree for model creation\n",
    "* Bagging Ensemble techniques such as RandomForestClassifier,AdaBoostClassifier,GradientBoostingClassifier from sklearn for model creation\n",
    "* Stacking Ensemble technique StackingClassifier from sklearn for model creation\n",
    "* Hypertuning the models using GridsearchCV and RandomizedSearchCV\n",
    "* StratifiedKFold from sklearn for cross validation\n",
    "* pickle for exporting the trained models \n",
    "\n",
    "**Loading Training data and Testing data**\n",
    "* Train data and Test data are loaded from file location data-> processed -> train_data.csv,test_data.csv \n",
    "\n",
    "**Independent and Dependent variable creation**\n",
    "* Creating X_train and X_test as independent variable and y_train and y_test as dependent variable.\n",
    "* We have imbalanced training dataset, we will oversample the training data using SMOTE sampling technique and see how the model is performing\n",
    "\n",
    "**Feature Transformation using ColumnTransformer**\n",
    "* Lists for categorical, numerical and positively skewed data are created to be used in ColumnTransformer to transform the features.\n",
    "* Using ColumnTransformer,\n",
    "\t* Categorical features handled by using OnehotEncoding Technique with dropping first column\n",
    "\t* Positive skewed numerical features  handled using Square Root Transformation through FunctionTransformer\n",
    "\t* Numerical features scaled using StandardScaler to get standardized distribution\n",
    "* Total number of categorical features before applying One Hot Encoding Technique : 12\n",
    "* Total number of expected categorical features after applying One Hot Encoding Technique : 49\n",
    "* Total number of features before Feature Transformation : 19\n",
    "* Total number of features after Feature Transformation will be 56\n",
    "\n",
    "\n",
    "***Creating multiple models with default parameters with smote and without smote to see which model is performing well with the dataset***\n",
    "* As pipeline is used for Data Pre-processing, n_components for PCA is decided based on the results from multiple manual execution of the pipeline.\n",
    "* Models performing good without SMOTE oversampling technique, so prediction models created without using SMOTE.\n",
    "\n",
    "\n",
    "**Model Creation**\n",
    "* Feature Transformation and Feature Extraction (using Principal Component Analysis) is performed during model creation via pipeline.\n",
    "* PCA hyperparameter n_component hypertuned with range 40-45 to improve the model performance\n",
    "* As the training data is imbalanced, f1_macro is used instead of accuracy as scoring parameter for Hyperparameter tuning.\n",
    "* Macro Average F1 score is the unweighted mean of the F1 scores calculated per class. So, it is used as scoring parameter for hypertuning model\n",
    "* StratifiedKFold Cross Validation Technique with 3 splits to understand the consistency of the model with different subset data as the measure of model stability using mean and standard deviation of the performance scores.\n",
    "\n",
    "\n",
    "***Hypertuning Logistic Regression parameters using GridsearchCV***\n",
    "* Cross Validation best f1_macro score : 0.7691\n",
    "* Cross validation Standard Deviation score : 0.0134\n",
    "* Model is created using best parameters found using GridsearchCV\n",
    "\n",
    "\n",
    "***Hypertuning Support Vector Classifier parameters using GridsearchCV***\n",
    "\n",
    "***Model 1***\n",
    "* Cross Validation best f1_macro score : 0.7647\n",
    "* Cross validation Standard Deviation score : 0.0058\n",
    "* Model is created using best parameters found using GridsearchCV          \n",
    "\n",
    "***Model 2***\n",
    "* Noticed that we get better result without using class_weight parameter and increasing n_components by 1, so model is created with those updated parameters\n",
    "* Cross Validation best f1_macro score :  0.7901\n",
    " * Cross Validation standard deviation score :  0.0147\n",
    " \n",
    "***Hypertuning Decision Tree Classifier parameters using RandomizedSearchCV***\n",
    "* Cross Validation best f1_macro score : 0.6590\n",
    "* Cross validation Standard Deviation score : 0.0206\n",
    "* Model is created using best parameters found using RandomizedSearchCV\n",
    "\n",
    "***Hypertuning Random Forest Classifier parameters using RandomizedSearchCV***\n",
    "* Cross Validation best f1_macro score : 0.7787\n",
    "* Cross validation Standard Deviation score : 0.0229\n",
    "* Model is created using best parameters found using RandomizedSearchCV\n",
    "\n",
    "***Hypertuning AdaBoost Classifier parameters using RandomizedSearchCV***\n",
    "* Cross Validation best f1_macro score : 0.6547\n",
    "* Cross validation Standard Deviation score : 0.0441\n",
    "* Model is created using best parameters found using RandomizedSearchCV\n",
    "\n",
    "***Hypertuning Gradient Boosting Classifier parameters using RandomizedSearchCV***\n",
    "* Cross Validation best f1_macro score : 0.7472\n",
    "* Cross validation Standard Deviation score : 0.0048\n",
    "* Model is created using best parameters found using RandomizedSearchCV\n",
    "\n",
    "***Model creation using Stacking Classifier (LogisticRegression + SVC + RandomForestClassifier)***\n",
    "* Selecting top 3 performing models based on Hypertuning results(f1_macro score) - LogisticRegression(0.7691), SVC model 2(0.7901) and RandomForestClassifier(0.7787)\n",
    "* Model is created using best parameters with respect to each model.\n",
    "* LogisticRegression, SVC and RandomForestClassifier models were stacked using Stacking Classifier model and best performing SVC model 2 was used as meta learner for the model to improve the performance of the model.\n",
    "* Cross Validation best f1_macro score : 0.8188\n",
    "* Cross validation Standard Deviation score : 0.0282\n",
    "\n",
    "**Exporting Trained Models**\n",
    "* All the trained models are exported to processed folder using pickle"
   ]
  }
 ],
 "metadata": {
  "kernelspec": {
   "display_name": "Python 3 (ipykernel)",
   "language": "python",
   "name": "python3"
  },
  "language_info": {
   "codemirror_mode": {
    "name": "ipython",
    "version": 3
   },
   "file_extension": ".py",
   "mimetype": "text/x-python",
   "name": "python",
   "nbconvert_exporter": "python",
   "pygments_lexer": "ipython3",
   "version": "3.9.12"
  }
 },
 "nbformat": 4,
 "nbformat_minor": 5
}
